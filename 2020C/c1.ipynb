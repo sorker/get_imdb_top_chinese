{
 "cells": [
  {
   "cell_type": "code",
   "execution_count": 1,
   "metadata": {
    "pycharm": {
     "name": "#%%\n"
    }
   },
   "outputs": [],
   "source": [
    "import numpy as np\n",
    "import pandas as pd\n",
    "import matplotlib as mpl\n",
    "import seaborn as sns\n",
    "import matplotlib.pyplot as plt\n",
    "from matplotlib.ticker import MultipleLocator\n",
    "\n",
    "from sklearn.preprocessing import scale\n",
    "import sklearn.linear_model as skl_lm\n",
    "from sklearn.metrics import mean_squared_error, r2_score\n",
    "import statsmodels.api as sm\n",
    "import statsmodels.formula.api as smf\n",
    "from sklearn.linear_model import LinearRegression,LogisticRegression"
   ]
  },
  {
   "cell_type": "code",
   "execution_count": 2,
   "metadata": {
    "pycharm": {
     "name": "#%%\n"
    }
   },
   "outputs": [],
   "source": [
    "plt.rcParams['font.sans-serif'] = ['Arial Unicode MS']\n",
    "#plt.rcParams['font.sans-serif'] = ['Microsoft YaHei']\n",
    "\n",
    "plt.rcParams['axes.unicode_minus'] = False      # 解决保存图像时 负号'-' 显示为方块和报错的问题。\n"
   ]
  },
  {
   "cell_type": "code",
   "execution_count": 3,
   "metadata": {
    "pycharm": {
     "name": "#%%\n"
    }
   },
   "outputs": [],
   "source": [
    "# 读取文件\n",
    "CompanyInfoData = pd.read_excel(r'data1.xlsx', sheet_name=0)"
   ]
  },
  {
   "cell_type": "code",
   "execution_count": 4,
   "metadata": {
    "pycharm": {
     "name": "#%%\n"
    }
   },
   "outputs": [],
   "source": [
    "# 支出 上游\n",
    "BillOutportData = pd.read_excel(r'data1.xlsx', sheet_name=1)"
   ]
  },
  {
   "cell_type": "code",
   "execution_count": 5,
   "metadata": {
    "pycharm": {
     "name": "#%%\n"
    }
   },
   "outputs": [],
   "source": [
    "# 收入 下游\n",
    "BillImportData = pd.read_excel(r'data1.xlsx', sheet_name=2)"
   ]
  },
  {
   "cell_type": "code",
   "execution_count": 6,
   "metadata": {
    "pycharm": {
     "name": "#%%\n"
    }
   },
   "outputs": [
    {
     "name": "stdout",
     "output_type": "stream",
     "text": [
      "0    96\n",
      "1    27\n",
      "Name: 是否违约, dtype: int64\n"
     ]
    }
   ],
   "source": [
    "# 用数字标记特征值\n",
    "CompanyInfoData.loc[CompanyInfoData['是否违约'] == '否', '是否违约'] = 0\n",
    "CompanyInfoData.loc[CompanyInfoData['是否违约'] == '是', '是否违约'] = 1\n",
    "print(CompanyInfoData['是否违约'].value_counts())"
   ]
  },
  {
   "cell_type": "code",
   "execution_count": 7,
   "metadata": {
    "pycharm": {
     "name": "#%%\n"
    }
   },
   "outputs": [
    {
     "name": "stdout",
     "output_type": "stream",
     "text": [
      " 1    200730\n",
      "-1      7544\n",
      " 0      1870\n",
      "Name: 发票状态, dtype: int64\n"
     ]
    }
   ],
   "source": [
    "# 进项发票状态修改为数值\n",
    "BillOutportData.drop_duplicates(inplace=True)\n",
    "BillOutportData.loc[BillOutportData['发票状态'] == '作废发票', '发票状态'] = -1\n",
    "BillOutportData.loc[BillOutportData['发票状态'] == '有效发票', '发票状态'] = 1\n",
    "BillOutportData.loc[BillOutportData['价税合计'] < 0, '发票状态'] = 0\n",
    "print(BillOutportData['发票状态'].value_counts())"
   ]
  },
  {
   "cell_type": "code",
   "execution_count": 8,
   "metadata": {
    "pycharm": {
     "name": "#%%\n"
    }
   },
   "outputs": [
    {
     "name": "stdout",
     "output_type": "stream",
     "text": [
      " 1    138823\n",
      "-1     10730\n",
      " 0      8495\n",
      "Name: 发票状态, dtype: int64\n"
     ]
    }
   ],
   "source": [
    "# 销项发票状态修改为数值\n",
    "BillImportData.drop_duplicates(inplace=True)\n",
    "BillImportData.loc[BillImportData['发票状态'] == '作废发票', '发票状态'] = -1\n",
    "BillImportData.loc[BillImportData['发票状态'] == ' 作废发票', '发票状态'] = -1\n",
    "BillImportData.loc[BillImportData['发票状态'] == '有效发票', '发票状态'] = 1\n",
    "BillImportData.loc[BillImportData['价税合计'] < 0, '发票状态'] = 0\n",
    "print(BillImportData['发票状态'].value_counts())"
   ]
  },
  {
   "cell_type": "code",
   "execution_count": 9,
   "metadata": {
    "pycharm": {
     "name": "#%%\n"
    }
   },
   "outputs": [],
   "source": [
    "# 方便排序 去掉企业代号前字母E\n",
    "BillImportData.loc[:, '企业代号'] = BillImportData['企业代号'].str.replace('E', '')\n",
    "BillImportData.loc[:, '企业代号'] = BillImportData['企业代号'].astype(dtype='int')\n",
    "BillOutportData.loc[:, '企业代号'] = BillOutportData['企业代号'].str.replace('E', '')\n",
    "BillOutportData.loc[:, '企业代号'] = BillOutportData['企业代号'].astype(dtype='int')\n",
    "\n",
    "#增加年份 方便统计\n",
    "BillImportData.loc[:, 'year'] = BillImportData['开票日期'].dt.year\n",
    "BillOutportData.loc[:, 'year'] = BillOutportData['开票日期'].dt.year"
   ]
  },
  {
   "cell_type": "code",
   "execution_count": 10,
   "metadata": {
    "pycharm": {
     "name": "#%%\n"
    }
   },
   "outputs": [],
   "source": [
    "# 计算进项、销项的作废数\n",
    "import_drop_data = BillImportData.loc[BillImportData['发票状态'] == 0].groupby('企业代号')['企业代号'].count()\n",
    "import_leave_data = BillImportData.loc[BillImportData['发票状态'] == -1].groupby('企业代号')['企业代号'].count()\n",
    "import_amount_data = BillImportData.groupby('企业代号')['企业代号'].count()\n",
    "\n",
    "outport_drop_data = BillOutportData.loc[BillOutportData['发票状态'] == 0].groupby('企业代号')['企业代号'].count()\n",
    "outport_leave_data = BillOutportData.loc[BillOutportData['发票状态'] == -1].groupby('企业代号')['企业代号'].count()\n",
    "outport_amount_data = BillOutportData.groupby('企业代号')['企业代号'].count()"
   ]
  },
  {
   "cell_type": "code",
   "execution_count": 11,
   "metadata": {
    "pycharm": {
     "name": "#%%\n"
    }
   },
   "outputs": [],
   "source": [
    "def check_nan(series, t=1):\n",
    "    if t:\n",
    "        for i in range(1, 124):\n",
    "            if not series.get(i):\n",
    "                series[i] = 0\n",
    "    else:\n",
    "        for i in np.arange(1.0, 124.0):\n",
    "            if not series.get(i):\n",
    "                series[i] = 0"
   ]
  },
  {
   "cell_type": "code",
   "execution_count": 12,
   "metadata": {
    "pycharm": {
     "name": "#%%\n"
    }
   },
   "outputs": [],
   "source": [
    "check_nan(import_drop_data)\n",
    "check_nan(import_leave_data)\n",
    "check_nan(import_amount_data)\n",
    "check_nan(outport_drop_data)\n",
    "check_nan(outport_leave_data)\n",
    "check_nan(outport_amount_data)"
   ]
  },
  {
   "cell_type": "code",
   "execution_count": 13,
   "metadata": {
    "pycharm": {
     "name": "#%%\n"
    }
   },
   "outputs": [],
   "source": [
    "# 企业销售违约率\n",
    "# 进项履约率\n",
    "import_rate = (import_drop_data + import_leave_data) / import_amount_data\n",
    "\n",
    "# 销项履约率\n",
    "outport_rate = (outport_drop_data + outport_leave_data) / outport_amount_data\n",
    "\n",
    "# coo_sale_rate = (import_drop_data + outport_drop_data) / (import_leave_data + import_drop_data + outport_leave_data + outport_drop_data)\n",
    "rate_date =  (import_drop_data + import_leave_data + outport_drop_data + outport_leave_data) / (import_amount_data +\n",
    "                                                                                                outport_amount_data)"
   ]
  },
  {
   "cell_type": "code",
   "execution_count": 14,
   "metadata": {
    "pycharm": {
     "name": "#%%\n"
    }
   },
   "outputs": [
    {
     "name": "stderr",
     "output_type": "stream",
     "text": [
      "findfont: Font family ['sans-serif'] not found. Falling back to DejaVu Sans.\n",
      "findfont: Generic family 'sans-serif' not found because none of the following families were found: Arial Unicode MS\n",
      "C:\\Users\\sorke\\Desktop\\c308\\venv\\lib\\site-packages\\IPython\\core\\pylabtools.py:151: UserWarning: Glyph 20225 (\\N{CJK UNIFIED IDEOGRAPH-4F01}) missing from current font.\n",
      "  fig.canvas.print_figure(bytes_io, **kw)\n",
      "C:\\Users\\sorke\\Desktop\\c308\\venv\\lib\\site-packages\\IPython\\core\\pylabtools.py:151: UserWarning: Glyph 19994 (\\N{CJK UNIFIED IDEOGRAPH-4E1A}) missing from current font.\n",
      "  fig.canvas.print_figure(bytes_io, **kw)\n",
      "C:\\Users\\sorke\\Desktop\\c308\\venv\\lib\\site-packages\\IPython\\core\\pylabtools.py:151: UserWarning: Glyph 20195 (\\N{CJK UNIFIED IDEOGRAPH-4EE3}) missing from current font.\n",
      "  fig.canvas.print_figure(bytes_io, **kw)\n",
      "C:\\Users\\sorke\\Desktop\\c308\\venv\\lib\\site-packages\\IPython\\core\\pylabtools.py:151: UserWarning: Glyph 21495 (\\N{CJK UNIFIED IDEOGRAPH-53F7}) missing from current font.\n",
      "  fig.canvas.print_figure(bytes_io, **kw)\n",
      "C:\\Users\\sorke\\Desktop\\c308\\venv\\lib\\site-packages\\IPython\\core\\pylabtools.py:151: UserWarning: Glyph 20316 (\\N{CJK UNIFIED IDEOGRAPH-4F5C}) missing from current font.\n",
      "  fig.canvas.print_figure(bytes_io, **kw)\n",
      "C:\\Users\\sorke\\Desktop\\c308\\venv\\lib\\site-packages\\IPython\\core\\pylabtools.py:151: UserWarning: Glyph 24223 (\\N{CJK UNIFIED IDEOGRAPH-5E9F}) missing from current font.\n",
      "  fig.canvas.print_figure(bytes_io, **kw)\n",
      "C:\\Users\\sorke\\Desktop\\c308\\venv\\lib\\site-packages\\IPython\\core\\pylabtools.py:151: UserWarning: Glyph 20132 (\\N{CJK UNIFIED IDEOGRAPH-4EA4}) missing from current font.\n",
      "  fig.canvas.print_figure(bytes_io, **kw)\n",
      "C:\\Users\\sorke\\Desktop\\c308\\venv\\lib\\site-packages\\IPython\\core\\pylabtools.py:151: UserWarning: Glyph 26131 (\\N{CJK UNIFIED IDEOGRAPH-6613}) missing from current font.\n",
      "  fig.canvas.print_figure(bytes_io, **kw)\n",
      "C:\\Users\\sorke\\Desktop\\c308\\venv\\lib\\site-packages\\IPython\\core\\pylabtools.py:151: UserWarning: Glyph 30340 (\\N{CJK UNIFIED IDEOGRAPH-7684}) missing from current font.\n",
      "  fig.canvas.print_figure(bytes_io, **kw)\n",
      "C:\\Users\\sorke\\Desktop\\c308\\venv\\lib\\site-packages\\IPython\\core\\pylabtools.py:151: UserWarning: Glyph 30334 (\\N{CJK UNIFIED IDEOGRAPH-767E}) missing from current font.\n",
      "  fig.canvas.print_figure(bytes_io, **kw)\n",
      "C:\\Users\\sorke\\Desktop\\c308\\venv\\lib\\site-packages\\IPython\\core\\pylabtools.py:151: UserWarning: Glyph 20998 (\\N{CJK UNIFIED IDEOGRAPH-5206}) missing from current font.\n",
      "  fig.canvas.print_figure(bytes_io, **kw)\n",
      "C:\\Users\\sorke\\Desktop\\c308\\venv\\lib\\site-packages\\IPython\\core\\pylabtools.py:151: UserWarning: Glyph 27604 (\\N{CJK UNIFIED IDEOGRAPH-6BD4}) missing from current font.\n",
      "  fig.canvas.print_figure(bytes_io, **kw)\n"
     ]
    },
    {
     "data": {
      "text/plain": "<Figure size 720x360 with 1 Axes>",
      "image/png": "[encoded data removed]"
     },
     "metadata": {
      "needs_background": "light"
     },
     "output_type": "display_data"
    }
   ],
   "source": [
    "# 条形图\n",
    "fig, ax = plt.subplots(1, 1, figsize=(10, 5), tight_layout=True)\n",
    "rate_date.plot.bar()\n",
    "ax.xaxis.set_major_locator(MultipleLocator(20))\n",
    "ax.set_ylabel('作废交易的百分比/%')\n",
    "plt.show()"
   ]
  },
  {
   "cell_type": "code",
   "execution_count": 15,
   "metadata": {
    "pycharm": {
     "name": "#%%\n"
    }
   },
   "outputs": [
    {
     "name": "stderr",
     "output_type": "stream",
     "text": [
      "C:\\Users\\sorke\\Desktop\\c308\\venv\\lib\\site-packages\\IPython\\core\\pylabtools.py:151: UserWarning: Glyph 37329 (\\N{CJK UNIFIED IDEOGRAPH-91D1}) missing from current font.\n",
      "  fig.canvas.print_figure(bytes_io, **kw)\n",
      "C:\\Users\\sorke\\Desktop\\c308\\venv\\lib\\site-packages\\IPython\\core\\pylabtools.py:151: UserWarning: Glyph 39069 (\\N{CJK UNIFIED IDEOGRAPH-989D}) missing from current font.\n",
      "  fig.canvas.print_figure(bytes_io, **kw)\n",
      "C:\\Users\\sorke\\Desktop\\c308\\venv\\lib\\site-packages\\IPython\\core\\pylabtools.py:151: UserWarning: Glyph 31246 (\\N{CJK UNIFIED IDEOGRAPH-7A0E}) missing from current font.\n",
      "  fig.canvas.print_figure(bytes_io, **kw)\n",
      "C:\\Users\\sorke\\Desktop\\c308\\venv\\lib\\site-packages\\IPython\\core\\pylabtools.py:151: UserWarning: Glyph 20215 (\\N{CJK UNIFIED IDEOGRAPH-4EF7}) missing from current font.\n",
      "  fig.canvas.print_figure(bytes_io, **kw)\n",
      "C:\\Users\\sorke\\Desktop\\c308\\venv\\lib\\site-packages\\IPython\\core\\pylabtools.py:151: UserWarning: Glyph 21512 (\\N{CJK UNIFIED IDEOGRAPH-5408}) missing from current font.\n",
      "  fig.canvas.print_figure(bytes_io, **kw)\n",
      "C:\\Users\\sorke\\Desktop\\c308\\venv\\lib\\site-packages\\IPython\\core\\pylabtools.py:151: UserWarning: Glyph 35745 (\\N{CJK UNIFIED IDEOGRAPH-8BA1}) missing from current font.\n",
      "  fig.canvas.print_figure(bytes_io, **kw)\n",
      "findfont: Font family ['sans-serif'] not found. Falling back to DejaVu Sans.\n",
      "findfont: Generic family 'sans-serif' not found because none of the following families were found: Arial Unicode MS\n",
      "C:\\Users\\sorke\\Desktop\\c308\\venv\\lib\\site-packages\\IPython\\core\\pylabtools.py:151: UserWarning: Glyph 36827 (\\N{CJK UNIFIED IDEOGRAPH-8FDB}) missing from current font.\n",
      "  fig.canvas.print_figure(bytes_io, **kw)\n",
      "C:\\Users\\sorke\\Desktop\\c308\\venv\\lib\\site-packages\\IPython\\core\\pylabtools.py:151: UserWarning: Glyph 39033 (\\N{CJK UNIFIED IDEOGRAPH-9879}) missing from current font.\n",
      "  fig.canvas.print_figure(bytes_io, **kw)\n",
      "C:\\Users\\sorke\\Desktop\\c308\\venv\\lib\\site-packages\\IPython\\core\\pylabtools.py:151: UserWarning: Glyph 21457 (\\N{CJK UNIFIED IDEOGRAPH-53D1}) missing from current font.\n",
      "  fig.canvas.print_figure(bytes_io, **kw)\n",
      "C:\\Users\\sorke\\Desktop\\c308\\venv\\lib\\site-packages\\IPython\\core\\pylabtools.py:151: UserWarning: Glyph 31080 (\\N{CJK UNIFIED IDEOGRAPH-7968}) missing from current font.\n",
      "  fig.canvas.print_figure(bytes_io, **kw)\n",
      "C:\\Users\\sorke\\Desktop\\c308\\venv\\lib\\site-packages\\IPython\\core\\pylabtools.py:151: UserWarning: Glyph 31665 (\\N{CJK UNIFIED IDEOGRAPH-7BB1}) missing from current font.\n",
      "  fig.canvas.print_figure(bytes_io, **kw)\n",
      "C:\\Users\\sorke\\Desktop\\c308\\venv\\lib\\site-packages\\IPython\\core\\pylabtools.py:151: UserWarning: Glyph 22411 (\\N{CJK UNIFIED IDEOGRAPH-578B}) missing from current font.\n",
      "  fig.canvas.print_figure(bytes_io, **kw)\n",
      "C:\\Users\\sorke\\Desktop\\c308\\venv\\lib\\site-packages\\IPython\\core\\pylabtools.py:151: UserWarning: Glyph 22270 (\\N{CJK UNIFIED IDEOGRAPH-56FE}) missing from current font.\n",
      "  fig.canvas.print_figure(bytes_io, **kw)\n",
      "C:\\Users\\sorke\\Desktop\\c308\\venv\\lib\\site-packages\\IPython\\core\\pylabtools.py:151: UserWarning: Glyph 38144 (\\N{CJK UNIFIED IDEOGRAPH-9500}) missing from current font.\n",
      "  fig.canvas.print_figure(bytes_io, **kw)\n"
     ]
    },
    {
     "data": {
      "text/plain": "<Figure size 720x360 with 2 Axes>",
      "image/png": "[encoded data removed]"
     },
     "metadata": {
      "needs_background": "light"
     },
     "output_type": "display_data"
    }
   ],
   "source": [
    "# 删除异常数据前的箱型图\n",
    "fig, (ax1,ax2) = plt.subplots(1, 2, figsize=(10, 5), tight_layout=True)\n",
    "BillImportData.boxplot(column=['金额', '税额', '价税合计'], ax=ax1)\n",
    "ax1.set_title('进项发票箱型图')\n",
    "BillOutportData.boxplot(column=['金额', '税额', '价税合计'], ax= ax2)\n",
    "ax2.set_title('销项发票箱型图')\n",
    "plt.show()"
   ]
  },
  {
   "cell_type": "code",
   "execution_count": 16,
   "metadata": {
    "pycharm": {
     "name": "#%%\n"
    }
   },
   "outputs": [],
   "source": [
    "# import_std = BillImportData.loc[:, ['金额', '税额', '价税合计']].std()\n",
    "# new_BillImportData = BillImportData.loc[(abs(BillImportData['金额']) < 4*import_std['金额'])&\n",
    "#                    (abs(BillImportData['税额']) < 4*import_std['税额'])&\n",
    "#                    (abs(BillImportData['价税合计']) < 4*import_std['价税合计'])]\n",
    "# outport_std = BillOutportData.loc[:, ['金额', '税额', '价税合计']].std()\n",
    "# new_BillOutportData = BillOutportData.loc[(abs(BillOutportData['金额']) < 4*import_std['金额'])&\n",
    "#                                       (abs(BillOutportData['税额']) < 4*import_std['税额'])&\n",
    "#                                       (abs(BillOutportData['价税合计']) < 4*import_std['价税合计'])]\n",
    "cut_BillImportData = BillImportData.loc[BillImportData['发票状态'] > -1]\n",
    "cut_BillOutportData = BillOutportData.loc[BillOutportData['发票状态'] > -1]"
   ]
  },
  {
   "cell_type": "code",
   "execution_count": 17,
   "metadata": {
    "pycharm": {
     "name": "#%%\n"
    }
   },
   "outputs": [
    {
     "name": "stderr",
     "output_type": "stream",
     "text": [
      "C:\\Users\\sorke\\Desktop\\c308\\venv\\lib\\site-packages\\IPython\\core\\pylabtools.py:151: UserWarning: Glyph 37329 (\\N{CJK UNIFIED IDEOGRAPH-91D1}) missing from current font.\n",
      "  fig.canvas.print_figure(bytes_io, **kw)\n",
      "C:\\Users\\sorke\\Desktop\\c308\\venv\\lib\\site-packages\\IPython\\core\\pylabtools.py:151: UserWarning: Glyph 39069 (\\N{CJK UNIFIED IDEOGRAPH-989D}) missing from current font.\n",
      "  fig.canvas.print_figure(bytes_io, **kw)\n",
      "C:\\Users\\sorke\\Desktop\\c308\\venv\\lib\\site-packages\\IPython\\core\\pylabtools.py:151: UserWarning: Glyph 31246 (\\N{CJK UNIFIED IDEOGRAPH-7A0E}) missing from current font.\n",
      "  fig.canvas.print_figure(bytes_io, **kw)\n",
      "C:\\Users\\sorke\\Desktop\\c308\\venv\\lib\\site-packages\\IPython\\core\\pylabtools.py:151: UserWarning: Glyph 20215 (\\N{CJK UNIFIED IDEOGRAPH-4EF7}) missing from current font.\n",
      "  fig.canvas.print_figure(bytes_io, **kw)\n",
      "C:\\Users\\sorke\\Desktop\\c308\\venv\\lib\\site-packages\\IPython\\core\\pylabtools.py:151: UserWarning: Glyph 21512 (\\N{CJK UNIFIED IDEOGRAPH-5408}) missing from current font.\n",
      "  fig.canvas.print_figure(bytes_io, **kw)\n",
      "C:\\Users\\sorke\\Desktop\\c308\\venv\\lib\\site-packages\\IPython\\core\\pylabtools.py:151: UserWarning: Glyph 35745 (\\N{CJK UNIFIED IDEOGRAPH-8BA1}) missing from current font.\n",
      "  fig.canvas.print_figure(bytes_io, **kw)\n",
      "C:\\Users\\sorke\\Desktop\\c308\\venv\\lib\\site-packages\\IPython\\core\\pylabtools.py:151: UserWarning: Glyph 31665 (\\N{CJK UNIFIED IDEOGRAPH-7BB1}) missing from current font.\n",
      "  fig.canvas.print_figure(bytes_io, **kw)\n",
      "C:\\Users\\sorke\\Desktop\\c308\\venv\\lib\\site-packages\\IPython\\core\\pylabtools.py:151: UserWarning: Glyph 22411 (\\N{CJK UNIFIED IDEOGRAPH-578B}) missing from current font.\n",
      "  fig.canvas.print_figure(bytes_io, **kw)\n",
      "C:\\Users\\sorke\\Desktop\\c308\\venv\\lib\\site-packages\\IPython\\core\\pylabtools.py:151: UserWarning: Glyph 22270 (\\N{CJK UNIFIED IDEOGRAPH-56FE}) missing from current font.\n",
      "  fig.canvas.print_figure(bytes_io, **kw)\n"
     ]
    },
    {
     "data": {
      "text/plain": "<Figure size 576x360 with 2 Axes>",
      "image/png": "[encoded data removed]"
     },
     "metadata": {
      "needs_background": "light"
     },
     "output_type": "display_data"
    }
   ],
   "source": [
    "# 删除异常数据后的箱型图\n",
    "fig, (ax1,ax2) = plt.subplots(1, 2, figsize=(8, 5), tight_layout=True)\n",
    "cut_BillOutportData.boxplot(column=['金额', '税额', '价税合计'], ax = ax1)\n",
    "ax1.set_title('箱型图')\n",
    "cut_BillImportData.boxplot(column=['金额', '税额', '价税合计'], ax = ax2)\n",
    "ax2.set_title('箱型图')\n",
    "plt.show()"
   ]
  },
  {
   "cell_type": "code",
   "execution_count": 18,
   "metadata": {
    "pycharm": {
     "name": "#%%\n"
    }
   },
   "outputs": [],
   "source": [
    "# 企业流水量\n",
    "\n",
    "# 销项\n",
    "import_acount = cut_BillImportData.groupby('企业代号')['价税合计'].sum()\n",
    "# 进项\n",
    "outport_acount = cut_BillOutportData.groupby('企业代号')['价税合计'].sum()\n",
    "\n",
    "\n",
    "coo_floot_acount = (import_acount + outport_acount) / 10000"
   ]
  },
  {
   "cell_type": "code",
   "execution_count": 19,
   "metadata": {
    "pycharm": {
     "name": "#%%\n"
    }
   },
   "outputs": [],
   "source": [
    "import_year_acount = cut_BillImportData.groupby(['企业代号', 'year'])['价税合计'].sum()\n",
    "outport_year_acount = cut_BillOutportData.groupby(['企业代号', 'year'])['价税合计'].sum()"
   ]
  },
  {
   "cell_type": "code",
   "execution_count": 20,
   "metadata": {
    "pycharm": {
     "name": "#%%\n"
    }
   },
   "outputs": [
    {
     "data": {
      "text/plain": "企业代号\n1     -4.848308e+08\n2      9.137705e+07\n3      1.504348e+08\n4      6.306574e+08\n5      1.535749e+06\n           ...     \n119   -6.403791e+04\n120    4.871683e+04\n121   -5.689162e+05\n122    1.748585e+03\n123    7.557323e+04\nName: 价税合计, Length: 123, dtype: float64"
     },
     "execution_count": 20,
     "metadata": {},
     "output_type": "execute_result"
    }
   ],
   "source": [
    "# 企业年平均毛利润\n",
    "lirun = (import_year_acount - outport_year_acount).groupby('企业代号').mean()\n",
    "\n",
    "lirun"
   ]
  },
  {
   "cell_type": "code",
   "execution_count": 21,
   "metadata": {
    "pycharm": {
     "name": "#%%\n"
    }
   },
   "outputs": [
    {
     "data": {
      "text/plain": "企业代号\n1     -0.103186\n2      0.173064\n3      0.229350\n4      0.293802\n5      0.006583\n         ...   \n119   -1.742907\n120    0.248057\n121   -4.977936\n122    0.028788\n123    0.332103\nName: 价税合计, Length: 123, dtype: float64"
     },
     "execution_count": 21,
     "metadata": {},
     "output_type": "execute_result"
    }
   ],
   "source": [
    "# 企业年平均毛利润率\n",
    "lirun_rate = ((import_year_acount - outport_year_acount) / import_acount).groupby('企业代号').mean()\n",
    "lirun_rate"
   ]
  },
  {
   "cell_type": "code",
   "execution_count": 22,
   "metadata": {
    "pycharm": {
     "name": "#%%\n"
    }
   },
   "outputs": [],
   "source": [
    "# 年上下游合作企业数量，每年上下游企业合作稳定性，企业是否违约\n",
    "\n",
    "import_cooperation = cut_BillImportData.drop_duplicates(['购方单位代号', 'year', '企业代号']).groupby(['企业代号', cut_BillImportData['开票日期'].dt.year])['购方单位代号'].count()\n",
    "# import_cooperation = cut_BillImportData.drop_duplicates(['销方单位代号', 'year']).groupby('企业代号')['销方单位代号'].count()\n",
    "\n",
    "outport_cooperation = cut_BillOutportData.drop_duplicates(['销方单位代号', 'year', '企业代号']).groupby(['企业代号',\n",
    "                                                                                        cut_BillOutportData['开票日期'].dt.year])['销方单位代号'].count()\n",
    "# outport_cooperation = cut_BillOutportData.drop_duplicates(['购方单位代号', 'year']).groupby('企业代号')['购方单位代号'].count()\n",
    "import_cooperation_num = import_cooperation.groupby('企业代号').mean()\n",
    "outport_cooperation_num = outport_cooperation.groupby('企业代号').mean()"
   ]
  },
  {
   "cell_type": "code",
   "execution_count": 23,
   "metadata": {
    "pycharm": {
     "name": "#%%\n"
    }
   },
   "outputs": [],
   "source": [
    "# 每年上下游企业合作稳定性\n",
    "import_coo = cut_BillImportData.drop_duplicates(['购方单位代号', 'year', '企业代号'])\n",
    "outport_coo = cut_BillOutportData.drop_duplicates(['销方单位代号', 'year', '企业代号'])"
   ]
  },
  {
   "cell_type": "code",
   "execution_count": 24,
   "metadata": {
    "pycharm": {
     "name": "#%%\n"
    }
   },
   "outputs": [],
   "source": [
    "def in_out_computer(coo, nkey):\n",
    "    cooperate_stable = pd.DataFrame({'企业代号':[], 'year': [], 'sheqi': [], 'xinzeng': []})\n",
    "    item = coo.drop_duplicates(['企业代号', 'year'])[['企业代号', 'year']]\n",
    "    for i in item.index:\n",
    "        company = item['企业代号'].get(i)\n",
    "        year = item['year'].get(i)\n",
    "        if coo.loc[(coo['企业代号'] == company)&(coo['year'] == year + 1)].count()['企业代号'] != 0:\n",
    "            alls = coo.loc[(coo['企业代号'] == company)&((coo['year'] == year)|(coo['year'] == year +\n",
    "                                                                                        1))]\n",
    "    #         cur.drop_duplicates('销方单位代号', keep=False)\n",
    "            difference = alls.count()['企业代号'] - alls.drop_duplicates(nkey, keep=False).count()['企业代号']\n",
    "            pre_num = alls.loc[alls['year'] == year].count()['企业代号']\n",
    "            bac_num = alls.loc[alls['year'] == year + 1].count()['企业代号']\n",
    "            sheqi = pre_num - difference\n",
    "            xinzeng = bac_num - difference\n",
    "            cooperate_stable.loc[len(cooperate_stable.index)] = [company, year + 1, sheqi, xinzeng]\n",
    "    return cooperate_stable.groupby('企业代号')['sheqi'].mean(), cooperate_stable.groupby('企业代号')['xinzeng'].mean()\n",
    "\n",
    "import_coo_sheqi, import_coo_xinzeng = in_out_computer(import_coo, '购方单位代号')\n",
    "outport_coo_sheqi, outport_coo_xinzeng = in_out_computer(outport_coo, '销方单位代号')"
   ]
  },
  {
   "cell_type": "code",
   "execution_count": 25,
   "metadata": {
    "pycharm": {
     "name": "#%%\n"
    }
   },
   "outputs": [],
   "source": [
    "# 企业是否违约\n",
    "CompanyInfoData.loc[:, '企业代号'] = CompanyInfoData['企业代号'].str.replace('E', '')\n",
    "CompanyInfoData.loc[:, '企业代号'] = CompanyInfoData['企业代号'].astype(dtype='int')\n",
    "company_default = CompanyInfoData.loc[:, ['企业代号', '是否违约']]"
   ]
  },
  {
   "cell_type": "code",
   "execution_count": 26,
   "metadata": {
    "pycharm": {
     "name": "#%%\n"
    }
   },
   "outputs": [],
   "source": [
    "# 企业信誉评级\n",
    "company_score = CompanyInfoData.loc[:, ['企业代号', '信誉评级']]\n",
    "company_score.loc[:, '信誉评级'] = company_score['信誉评级'].str.replace('A', '1')\n",
    "company_score.loc[:, '信誉评级'] = company_score['信誉评级'].str.replace('B', '0.75')\n",
    "company_score.loc[:, '信誉评级'] = company_score['信誉评级'].str.replace('C', '0.5')\n",
    "company_score.loc[:, '信誉评级'] = company_score['信誉评级'].str.replace('D', '0.25')\n",
    "company_score['信誉评级'].astype(dtype='float')\n",
    "# company_score = pd.DataFrame(company_score.get('信誉评级'), index=np.arange(1, 124))\n",
    "company_score.index = np.arange(1, 124)\n"
   ]
  },
  {
   "cell_type": "code",
   "execution_count": 27,
   "metadata": {
    "pycharm": {
     "name": "#%%\n"
    }
   },
   "outputs": [],
   "source": [
    "# 企业总流水量\n",
    "# coo_floot_acount"
   ]
  },
  {
   "cell_type": "code",
   "execution_count": 28,
   "metadata": {
    "pycharm": {
     "name": "#%%\n"
    }
   },
   "outputs": [],
   "source": [
    "# 企业年毛利润\n",
    "# lirun"
   ]
  },
  {
   "cell_type": "code",
   "execution_count": 29,
   "metadata": {
    "pycharm": {
     "name": "#%%\n"
    }
   },
   "outputs": [
    {
     "data": {
      "text/plain": "企业代号\n1      179.500000\n2      554.500000\n3       68.750000\n4       12.000000\n5       13.000000\n          ...    \n119      5.666667\n120      2.000000\n121     61.000000\n122     17.750000\n123      2.666667\nName: 购方单位代号, Length: 123, dtype: float64"
     },
     "execution_count": 29,
     "metadata": {},
     "output_type": "execute_result"
    }
   ],
   "source": [
    "# 上游年平均合作企业数量\n",
    "check_nan(import_cooperation_num)\n",
    "import_cooperation_num"
   ]
  },
  {
   "cell_type": "code",
   "execution_count": 30,
   "metadata": {
    "pycharm": {
     "name": "#%%\n"
    }
   },
   "outputs": [
    {
     "data": {
      "text/plain": "企业代号\n1       143.250000\n2      1337.750000\n3       215.250000\n4        46.000000\n5       121.000000\n          ...     \n119       8.250000\n120       6.333333\n121       5.666667\n122       6.750000\n123       1.000000\nName: 销方单位代号, Length: 123, dtype: float64"
     },
     "execution_count": 30,
     "metadata": {},
     "output_type": "execute_result"
    }
   ],
   "source": [
    "# 下游年平均合作企业数量\n",
    "check_nan(outport_cooperation_num)\n",
    "outport_cooperation_num"
   ]
  },
  {
   "cell_type": "code",
   "execution_count": 31,
   "metadata": {
    "pycharm": {
     "name": "#%%\n"
    }
   },
   "outputs": [],
   "source": [
    "# 上游平均企业新增数量，上游平均企业终止数量\n",
    "#import_coo_sheqi, import_coo_xinzeng\n",
    "check_nan(import_coo_sheqi, 0)\n",
    "check_nan(import_coo_xinzeng, 0)\n",
    "check_nan(outport_coo_sheqi, 0)\n",
    "check_nan(outport_coo_xinzeng, 0)\n"
   ]
  },
  {
   "cell_type": "code",
   "execution_count": 32,
   "metadata": {
    "pycharm": {
     "name": "#%%\n"
    }
   },
   "outputs": [],
   "source": [
    "# 下游平均企业新增数量，下游平均企业终止数量\n",
    "# print(import_coo_sheqi)\n",
    "# print(import_coo_xinzeng)\n",
    "# print(outport_coo_sheqi)\n",
    "# print(outport_coo_xinzeng)"
   ]
  },
  {
   "cell_type": "code",
   "execution_count": 33,
   "metadata": {
    "pycharm": {
     "name": "#%%\n"
    }
   },
   "outputs": [],
   "source": [
    "\n",
    "# 企业是否违约\n",
    "#company_default"
   ]
  },
  {
   "cell_type": "code",
   "execution_count": 34,
   "metadata": {
    "pycharm": {
     "name": "#%%\n"
    }
   },
   "outputs": [],
   "source": [
    "# 企业总流水量\n",
    "# coo_floot_acount\n",
    "# 企业年毛利润\n",
    "# lirun\n",
    "# 企业销售违约率\n",
    "# coo_sale_rate\n",
    "# 上游年平均合作企业数量\n",
    "# import_cooperation_num\n",
    "# 下游年平均合作企业数量\n",
    "# outport_cooperation_num\n",
    "# 上游平均企业新增数量，上游平均企业终止数量\n",
    "# import_coo_sheqi, import_coo_xinzeng\n",
    "# 下游平均企业新增数量，下游平均企业终止数量\n",
    "# outport_coo_sheqi, outport_coo_xinzeng\n",
    "# 企业信誉评级\n",
    "# company_default\n"
   ]
  },
  {
   "cell_type": "code",
   "execution_count": 35,
   "metadata": {
    "pycharm": {
     "name": "#%%\n"
    }
   },
   "outputs": [],
   "source": [
    "df = pd.DataFrame([coo_floot_acount, lirun, lirun_rate, import_rate, outport_cooperation_num+import_cooperation_num,\n",
    "                   import_coo_sheqi, import_coo_xinzeng, np.ones(124), company_score['信誉评级'].astype(dtype='float'),\n",
    "                   pd.DataFrame([company_default['是否违约']]).T.set_index(np.arange(1, 124)).get('是否违约')]).T\n",
    "columns = ['企业总流水量', '企业年平均毛利润', '企业年平均利润率','企业销项销售违约率','年平均合作企业数量',\n",
    "           '下游平均企业新增数量', '下游平均企业终止数量', 'b', '信誉评级', '是否违约']\n",
    "df.columns=columns"
   ]
  },
  {
   "cell_type": "code",
   "execution_count": 36,
   "metadata": {
    "pycharm": {
     "name": "#%%\n"
    }
   },
   "outputs": [
    {
     "name": "stdout",
     "output_type": "stream",
     "text": [
      "Optimization terminated successfully.\n",
      "         Current function value: 0.112277\n",
      "         Iterations 13\n"
     ]
    }
   ],
   "source": [
    "logit = sm.Logit(df['是否违约'], df.iloc[:, :-1])\n",
    "res = logit.fit()"
   ]
  },
  {
   "cell_type": "code",
   "execution_count": 37,
   "metadata": {
    "pycharm": {
     "name": "#%%\n"
    }
   },
   "outputs": [
    {
     "name": "stdout",
     "output_type": "stream",
     "text": [
      "1.0      False\n",
      "2.0      False\n",
      "3.0      False\n",
      "4.0      False\n",
      "5.0      False\n",
      "         ...  \n",
      "119.0     True\n",
      "120.0     True\n",
      "121.0     True\n",
      "122.0     True\n",
      "123.0     True\n",
      "Length: 123, dtype: bool\n"
     ]
    }
   ],
   "source": [
    "print(res.predict(df.iloc[:, :-1]) > 0.5 )"
   ]
  },
  {
   "cell_type": "code",
   "execution_count": 38,
   "outputs": [
    {
     "data": {
      "text/plain": "      1     0\n1  96.0   0.0\n0   3.0  24.0",
      "text/html": "<div>\n<style scoped>\n    .dataframe tbody tr th:only-of-type {\n        vertical-align: middle;\n    }\n\n    .dataframe tbody tr th {\n        vertical-align: top;\n    }\n\n    .dataframe thead th {\n        text-align: right;\n    }\n</style>\n<table border=\"1\" class=\"dataframe\">\n  <thead>\n    <tr style=\"text-align: right;\">\n      <th></th>\n      <th>1</th>\n      <th>0</th>\n    </tr>\n  </thead>\n  <tbody>\n    <tr>\n      <th>1</th>\n      <td>96.0</td>\n      <td>0.0</td>\n    </tr>\n    <tr>\n      <th>0</th>\n      <td>3.0</td>\n      <td>24.0</td>\n    </tr>\n  </tbody>\n</table>\n</div>"
     },
     "execution_count": 38,
     "metadata": {},
     "output_type": "execute_result"
    }
   ],
   "source": [
    "wd_probs = res.pred_table()\n",
    "pd.DataFrame(wd_probs, columns=['1', '0'], index=['1', '0'])"
   ],
   "metadata": {
    "collapsed": false,
    "pycharm": {
     "name": "#%%\n"
    }
   }
  },
  {
   "cell_type": "code",
   "execution_count": 39,
   "metadata": {
    "pycharm": {
     "name": "#%%\n"
    }
   },
   "outputs": [
    {
     "name": "stdout",
     "output_type": "stream",
     "text": [
      "                           Logit Regression Results                           \n",
      "==============================================================================\n",
      "Dep. Variable:                   是否违约   No. Observations:                  123\n",
      "Model:                          Logit   Df Residuals:                      114\n",
      "Method:                           MLE   Df Model:                            8\n",
      "Date:                Thu, 25 Aug 2022   Pseudo R-squ.:                  0.7867\n",
      "Time:                        21:01:31   Log-Likelihood:                -13.810\n",
      "converged:                       True   LL-Null:                       -64.734\n",
      "Covariance Type:            nonrobust   LLR p-value:                 1.789e-18\n",
      "==============================================================================\n",
      "                 coef    std err          z      P>|z|      [0.025      0.975]\n",
      "------------------------------------------------------------------------------\n",
      "企业总流水量        -0.0001      0.000     -0.463      0.643      -0.001       0.000\n",
      "企业年平均毛利润    4.412e-08   1.06e-07      0.418      0.676   -1.63e-07    2.51e-07\n",
      "企业年平均利润率      -1.3732      2.313     -0.594      0.553      -5.907       3.161\n",
      "企业销项销售违约率     -4.3741      4.411     -0.992      0.321     -13.019       4.271\n",
      "年平均合作企业数量     -0.0120      0.010     -1.200      0.230      -0.032       0.008\n",
      "下游平均企业新增数量    -0.1197      0.089     -1.350      0.177      -0.293       0.054\n",
      "下游平均企业终止数量     0.1113      0.085      1.304      0.192      -0.056       0.279\n",
      "b             10.7538      3.527      3.049      0.002       3.840      17.668\n",
      "信誉评级         -21.9520      6.265     -3.504      0.000     -34.231      -9.673\n",
      "==============================================================================\n",
      "\n",
      "Possibly complete quasi-separation: A fraction 0.36 of observations can be\n",
      "perfectly predicted. This might indicate that there is complete\n",
      "quasi-separation. In this case some parameters will not be identified.\n"
     ]
    }
   ],
   "source": [
    "print(res.summary())\n"
   ]
  },
  {
   "cell_type": "code",
   "execution_count": 40,
   "metadata": {
    "pycharm": {
     "name": "#%%\n"
    }
   },
   "outputs": [],
   "source": [
    "float_rate_data = pd.read_excel(r'data3.xlsx', sheet_name=0)\n",
    "float_rate_data = pd.DataFrame(float_rate_data)\n",
    "float_rate_data.columns = ['rate', 'A', 'B', 'C']\n",
    "float_rate_data = float_rate_data[1:].astype('float')"
   ]
  },
  {
   "cell_type": "code",
   "execution_count": 41,
   "metadata": {
    "pycharm": {
     "name": "#%%\n"
    }
   },
   "outputs": [
    {
     "name": "stdout",
     "output_type": "stream",
     "text": [
      "==============================================================================\n",
      "                 coef    std err          t      P>|t|      [0.025      0.975]\n",
      "------------------------------------------------------------------------------\n",
      "Intercept      0.0408      0.001     27.599      0.000       0.038       0.044\n",
      "A2             0.1207      0.003     42.722      0.000       0.115       0.126\n",
      "==============================================================================\n",
      "==============================================================================\n",
      "                 coef    std err          t      P>|t|      [0.025      0.975]\n",
      "------------------------------------------------------------------------------\n",
      "Intercept      0.0424      0.001     37.879      0.000       0.040       0.045\n",
      "B2             0.1310      0.002     55.226      0.000       0.126       0.136\n",
      "==============================================================================\n",
      "==============================================================================\n",
      "                 coef    std err          t      P>|t|      [0.025      0.975]\n",
      "------------------------------------------------------------------------------\n",
      "Intercept      0.0438      0.001     44.648      0.000       0.042       0.046\n",
      "C2             0.1304      0.002     61.807      0.000       0.126       0.135\n",
      "==============================================================================\n"
     ]
    }
   ],
   "source": [
    "float_rate_data['A2'] = float_rate_data.A**2\n",
    "float_rate_data['B2'] = float_rate_data.B**2\n",
    "float_rate_data['C2'] = float_rate_data.C**2\n",
    "A = smf.ols('rate~A2', float_rate_data).fit()\n",
    "print(A.summary().tables[1])\n",
    "B = smf.ols('rate~B2', float_rate_data).fit()\n",
    "print(B.summary().tables[1])\n",
    "C = smf.ols('rate~C2', float_rate_data).fit()\n",
    "print(C.summary().tables[1])"
   ]
  },
  {
   "cell_type": "code",
   "execution_count": 42,
   "metadata": {
    "pycharm": {
     "name": "#%%\n"
    }
   },
   "outputs": [
    {
     "name": "stderr",
     "output_type": "stream",
     "text": [
      "C:\\Users\\sorke\\Desktop\\c308\\venv\\lib\\site-packages\\IPython\\core\\pylabtools.py:151: UserWarning: Glyph 23458 (\\N{CJK UNIFIED IDEOGRAPH-5BA2}) missing from current font.\n",
      "  fig.canvas.print_figure(bytes_io, **kw)\n",
      "C:\\Users\\sorke\\Desktop\\c308\\venv\\lib\\site-packages\\IPython\\core\\pylabtools.py:151: UserWarning: Glyph 25143 (\\N{CJK UNIFIED IDEOGRAPH-6237}) missing from current font.\n",
      "  fig.canvas.print_figure(bytes_io, **kw)\n",
      "C:\\Users\\sorke\\Desktop\\c308\\venv\\lib\\site-packages\\IPython\\core\\pylabtools.py:151: UserWarning: Glyph 27969 (\\N{CJK UNIFIED IDEOGRAPH-6D41}) missing from current font.\n",
      "  fig.canvas.print_figure(bytes_io, **kw)\n",
      "C:\\Users\\sorke\\Desktop\\c308\\venv\\lib\\site-packages\\IPython\\core\\pylabtools.py:151: UserWarning: Glyph 22833 (\\N{CJK UNIFIED IDEOGRAPH-5931}) missing from current font.\n",
      "  fig.canvas.print_figure(bytes_io, **kw)\n",
      "C:\\Users\\sorke\\Desktop\\c308\\venv\\lib\\site-packages\\IPython\\core\\pylabtools.py:151: UserWarning: Glyph 29575 (\\N{CJK UNIFIED IDEOGRAPH-7387}) missing from current font.\n",
      "  fig.canvas.print_figure(bytes_io, **kw)\n",
      "C:\\Users\\sorke\\Desktop\\c308\\venv\\lib\\site-packages\\IPython\\core\\pylabtools.py:151: UserWarning: Glyph 36151 (\\N{CJK UNIFIED IDEOGRAPH-8D37}) missing from current font.\n",
      "  fig.canvas.print_figure(bytes_io, **kw)\n",
      "C:\\Users\\sorke\\Desktop\\c308\\venv\\lib\\site-packages\\IPython\\core\\pylabtools.py:151: UserWarning: Glyph 27454 (\\N{CJK UNIFIED IDEOGRAPH-6B3E}) missing from current font.\n",
      "  fig.canvas.print_figure(bytes_io, **kw)\n",
      "C:\\Users\\sorke\\Desktop\\c308\\venv\\lib\\site-packages\\IPython\\core\\pylabtools.py:151: UserWarning: Glyph 24180 (\\N{CJK UNIFIED IDEOGRAPH-5E74}) missing from current font.\n",
      "  fig.canvas.print_figure(bytes_io, **kw)\n",
      "C:\\Users\\sorke\\Desktop\\c308\\venv\\lib\\site-packages\\IPython\\core\\pylabtools.py:151: UserWarning: Glyph 21033 (\\N{CJK UNIFIED IDEOGRAPH-5229}) missing from current font.\n",
      "  fig.canvas.print_figure(bytes_io, **kw)\n",
      "C:\\Users\\sorke\\Desktop\\c308\\venv\\lib\\site-packages\\IPython\\core\\pylabtools.py:151: UserWarning: Glyph 20449 (\\N{CJK UNIFIED IDEOGRAPH-4FE1}) missing from current font.\n",
      "  fig.canvas.print_figure(bytes_io, **kw)\n",
      "C:\\Users\\sorke\\Desktop\\c308\\venv\\lib\\site-packages\\IPython\\core\\pylabtools.py:151: UserWarning: Glyph 35465 (\\N{CJK UNIFIED IDEOGRAPH-8A89}) missing from current font.\n",
      "  fig.canvas.print_figure(bytes_io, **kw)\n",
      "C:\\Users\\sorke\\Desktop\\c308\\venv\\lib\\site-packages\\IPython\\core\\pylabtools.py:151: UserWarning: Glyph 35780 (\\N{CJK UNIFIED IDEOGRAPH-8BC4}) missing from current font.\n",
      "  fig.canvas.print_figure(bytes_io, **kw)\n",
      "C:\\Users\\sorke\\Desktop\\c308\\venv\\lib\\site-packages\\IPython\\core\\pylabtools.py:151: UserWarning: Glyph 32423 (\\N{CJK UNIFIED IDEOGRAPH-7EA7}) missing from current font.\n",
      "  fig.canvas.print_figure(bytes_io, **kw)\n"
     ]
    },
    {
     "data": {
      "text/plain": "<Figure size 576x360 with 1 Axes>",
      "image/png": "[encoded data removed]"
     },
     "metadata": {
      "needs_background": "light"
     },
     "output_type": "display_data"
    }
   ],
   "source": [
    "fig, ax = plt.subplots(figsize=(8, 5))\n",
    "sA = ax.scatter(float_rate_data['A'], float_rate_data['rate'])\n",
    "ax.plot(float_rate_data['A'], 0.1207 * float_rate_data['A2'] + 0.0408)\n",
    "sB = ax.scatter(float_rate_data['B'], float_rate_data['rate'])\n",
    "ax.plot(float_rate_data['B'], 0.1310 * float_rate_data['B2'] + 0.0424)\n",
    "sC = ax.scatter(float_rate_data['C'], float_rate_data['rate'])\n",
    "ax.plot(float_rate_data['C'], 0.1304 * float_rate_data['C2'] + 0.0438)\n",
    "ax.legend(handles = [sA, sB, sC], labels = ['信誉评级A', '信誉评级B', '信誉评级C'])\n",
    "ax.set_ylabel('贷款年利率')\n",
    "ax.set_xlabel('客户流失率')\n",
    "plt.show()"
   ]
  },
  {
   "cell_type": "code",
   "execution_count": 43,
   "outputs": [
    {
     "ename": "DCPError",
     "evalue": "Problem does not follow DCP rules. Specifically:\nThe objective is not DCP. Its following subexpressions are not:\n(Promote(0.131, (123,)) + var1) @ var2",
     "output_type": "error",
     "traceback": [
      "\u001B[1;31m---------------------------------------------------------------------------\u001B[0m",
      "\u001B[1;31mDCPError\u001B[0m                                  Traceback (most recent call last)",
      "\u001B[1;32m~\\AppData\\Local\\Temp\\ipykernel_12232\\3530374808.py\u001B[0m in \u001B[0;36m<module>\u001B[1;34m\u001B[0m\n\u001B[0;32m     23\u001B[0m prob = cp.Problem(cp.Minimize((0.1310+x )@ r),\n\u001B[0;32m     24\u001B[0m                  [x <= 100.0, x >= 10.0, r >= 0.04, r <= 0.15])\n\u001B[1;32m---> 25\u001B[1;33m \u001B[0mprob\u001B[0m\u001B[1;33m.\u001B[0m\u001B[0msolve\u001B[0m\u001B[1;33m(\u001B[0m\u001B[1;33m)\u001B[0m\u001B[1;33m\u001B[0m\u001B[1;33m\u001B[0m\u001B[0m\n\u001B[0m\u001B[0;32m     26\u001B[0m \u001B[1;33m\u001B[0m\u001B[0m\n\u001B[0;32m     27\u001B[0m \u001B[1;31m# 1 / cp.sum((r - p) @ x) + cp.sum(p @ x) +\u001B[0m\u001B[1;33m\u001B[0m\u001B[1;33m\u001B[0m\u001B[1;33m\u001B[0m\u001B[0m\n",
      "\u001B[1;32m~\\Desktop\\c308\\venv\\lib\\site-packages\\cvxpy\\problems\\problem.py\u001B[0m in \u001B[0;36msolve\u001B[1;34m(self, *args, **kwargs)\u001B[0m\n\u001B[0;32m    479\u001B[0m         \u001B[1;32melse\u001B[0m\u001B[1;33m:\u001B[0m\u001B[1;33m\u001B[0m\u001B[1;33m\u001B[0m\u001B[0m\n\u001B[0;32m    480\u001B[0m             \u001B[0msolve_func\u001B[0m \u001B[1;33m=\u001B[0m \u001B[0mProblem\u001B[0m\u001B[1;33m.\u001B[0m\u001B[0m_solve\u001B[0m\u001B[1;33m\u001B[0m\u001B[1;33m\u001B[0m\u001B[0m\n\u001B[1;32m--> 481\u001B[1;33m         \u001B[1;32mreturn\u001B[0m \u001B[0msolve_func\u001B[0m\u001B[1;33m(\u001B[0m\u001B[0mself\u001B[0m\u001B[1;33m,\u001B[0m \u001B[1;33m*\u001B[0m\u001B[0margs\u001B[0m\u001B[1;33m,\u001B[0m \u001B[1;33m**\u001B[0m\u001B[0mkwargs\u001B[0m\u001B[1;33m)\u001B[0m\u001B[1;33m\u001B[0m\u001B[1;33m\u001B[0m\u001B[0m\n\u001B[0m\u001B[0;32m    482\u001B[0m \u001B[1;33m\u001B[0m\u001B[0m\n\u001B[0;32m    483\u001B[0m     \u001B[1;33m@\u001B[0m\u001B[0mclassmethod\u001B[0m\u001B[1;33m\u001B[0m\u001B[1;33m\u001B[0m\u001B[0m\n",
      "\u001B[1;32m~\\Desktop\\c308\\venv\\lib\\site-packages\\cvxpy\\problems\\problem.py\u001B[0m in \u001B[0;36m_solve\u001B[1;34m(self, solver, warm_start, verbose, gp, qcp, requires_grad, enforce_dpp, ignore_dpp, **kwargs)\u001B[0m\n\u001B[0;32m   1006\u001B[0m \u001B[1;33m\u001B[0m\u001B[0m\n\u001B[0;32m   1007\u001B[0m         data, solving_chain, inverse_data = self.get_problem_data(\n\u001B[1;32m-> 1008\u001B[1;33m             solver, gp, enforce_dpp, ignore_dpp, verbose)\n\u001B[0m\u001B[0;32m   1009\u001B[0m \u001B[1;33m\u001B[0m\u001B[0m\n\u001B[0;32m   1010\u001B[0m         \u001B[1;32mif\u001B[0m \u001B[0mverbose\u001B[0m\u001B[1;33m:\u001B[0m\u001B[1;33m\u001B[0m\u001B[1;33m\u001B[0m\u001B[0m\n",
      "\u001B[1;32m~\\Desktop\\c308\\venv\\lib\\site-packages\\cvxpy\\problems\\problem.py\u001B[0m in \u001B[0;36mget_problem_data\u001B[1;34m(self, solver, gp, enforce_dpp, ignore_dpp, verbose)\u001B[0m\n\u001B[0;32m    608\u001B[0m                 \u001B[0msolver\u001B[0m\u001B[1;33m=\u001B[0m\u001B[0msolver\u001B[0m\u001B[1;33m,\u001B[0m \u001B[0mgp\u001B[0m\u001B[1;33m=\u001B[0m\u001B[0mgp\u001B[0m\u001B[1;33m,\u001B[0m\u001B[1;33m\u001B[0m\u001B[1;33m\u001B[0m\u001B[0m\n\u001B[0;32m    609\u001B[0m                 \u001B[0menforce_dpp\u001B[0m\u001B[1;33m=\u001B[0m\u001B[0menforce_dpp\u001B[0m\u001B[1;33m,\u001B[0m\u001B[1;33m\u001B[0m\u001B[1;33m\u001B[0m\u001B[0m\n\u001B[1;32m--> 610\u001B[1;33m                 ignore_dpp=ignore_dpp)\n\u001B[0m\u001B[0;32m    611\u001B[0m             \u001B[0mself\u001B[0m\u001B[1;33m.\u001B[0m\u001B[0m_cache\u001B[0m\u001B[1;33m.\u001B[0m\u001B[0mkey\u001B[0m \u001B[1;33m=\u001B[0m \u001B[0mkey\u001B[0m\u001B[1;33m\u001B[0m\u001B[1;33m\u001B[0m\u001B[0m\n\u001B[0;32m    612\u001B[0m             \u001B[0mself\u001B[0m\u001B[1;33m.\u001B[0m\u001B[0m_cache\u001B[0m\u001B[1;33m.\u001B[0m\u001B[0msolving_chain\u001B[0m \u001B[1;33m=\u001B[0m \u001B[0msolving_chain\u001B[0m\u001B[1;33m\u001B[0m\u001B[1;33m\u001B[0m\u001B[0m\n",
      "\u001B[1;32m~\\Desktop\\c308\\venv\\lib\\site-packages\\cvxpy\\problems\\problem.py\u001B[0m in \u001B[0;36m_construct_chain\u001B[1;34m(self, solver, gp, enforce_dpp, ignore_dpp)\u001B[0m\n\u001B[0;32m    845\u001B[0m         return construct_solving_chain(self, candidate_solvers, gp=gp,\n\u001B[0;32m    846\u001B[0m                                        \u001B[0menforce_dpp\u001B[0m\u001B[1;33m=\u001B[0m\u001B[0menforce_dpp\u001B[0m\u001B[1;33m,\u001B[0m\u001B[1;33m\u001B[0m\u001B[1;33m\u001B[0m\u001B[0m\n\u001B[1;32m--> 847\u001B[1;33m                                        ignore_dpp=ignore_dpp)\n\u001B[0m\u001B[0;32m    848\u001B[0m \u001B[1;33m\u001B[0m\u001B[0m\n\u001B[0;32m    849\u001B[0m     \u001B[1;33m@\u001B[0m\u001B[0mstaticmethod\u001B[0m\u001B[1;33m\u001B[0m\u001B[1;33m\u001B[0m\u001B[0m\n",
      "\u001B[1;32m~\\Desktop\\c308\\venv\\lib\\site-packages\\cvxpy\\reductions\\solvers\\solving_chain.py\u001B[0m in \u001B[0;36mconstruct_solving_chain\u001B[1;34m(problem, candidates, gp, enforce_dpp, ignore_dpp)\u001B[0m\n\u001B[0;32m    160\u001B[0m     \u001B[1;32mif\u001B[0m \u001B[0mlen\u001B[0m\u001B[1;33m(\u001B[0m\u001B[0mproblem\u001B[0m\u001B[1;33m.\u001B[0m\u001B[0mvariables\u001B[0m\u001B[1;33m(\u001B[0m\u001B[1;33m)\u001B[0m\u001B[1;33m)\u001B[0m \u001B[1;33m==\u001B[0m \u001B[1;36m0\u001B[0m\u001B[1;33m:\u001B[0m\u001B[1;33m\u001B[0m\u001B[1;33m\u001B[0m\u001B[0m\n\u001B[0;32m    161\u001B[0m         \u001B[1;32mreturn\u001B[0m \u001B[0mSolvingChain\u001B[0m\u001B[1;33m(\u001B[0m\u001B[0mreductions\u001B[0m\u001B[1;33m=\u001B[0m\u001B[1;33m[\u001B[0m\u001B[0mConstantSolver\u001B[0m\u001B[1;33m(\u001B[0m\u001B[1;33m)\u001B[0m\u001B[1;33m]\u001B[0m\u001B[1;33m)\u001B[0m\u001B[1;33m\u001B[0m\u001B[1;33m\u001B[0m\u001B[0m\n\u001B[1;32m--> 162\u001B[1;33m     \u001B[0mreductions\u001B[0m \u001B[1;33m=\u001B[0m \u001B[0m_reductions_for_problem_class\u001B[0m\u001B[1;33m(\u001B[0m\u001B[0mproblem\u001B[0m\u001B[1;33m,\u001B[0m \u001B[0mcandidates\u001B[0m\u001B[1;33m,\u001B[0m \u001B[0mgp\u001B[0m\u001B[1;33m)\u001B[0m\u001B[1;33m\u001B[0m\u001B[1;33m\u001B[0m\u001B[0m\n\u001B[0m\u001B[0;32m    163\u001B[0m \u001B[1;33m\u001B[0m\u001B[0m\n\u001B[0;32m    164\u001B[0m     \u001B[1;31m# Process DPP status of the problem.\u001B[0m\u001B[1;33m\u001B[0m\u001B[1;33m\u001B[0m\u001B[1;33m\u001B[0m\u001B[0m\n",
      "\u001B[1;32m~\\Desktop\\c308\\venv\\lib\\site-packages\\cvxpy\\reductions\\solvers\\solving_chain.py\u001B[0m in \u001B[0;36m_reductions_for_problem_class\u001B[1;34m(problem, candidates, gp)\u001B[0m\n\u001B[0;32m     93\u001B[0m                        \"Consider calling solve() with `qcp=True`.\")\n\u001B[0;32m     94\u001B[0m         raise DCPError(\n\u001B[1;32m---> 95\u001B[1;33m             \"Problem does not follow DCP rules. Specifically:\\n\" + append)\n\u001B[0m\u001B[0;32m     96\u001B[0m     \u001B[1;32melif\u001B[0m \u001B[0mgp\u001B[0m \u001B[1;32mand\u001B[0m \u001B[1;32mnot\u001B[0m \u001B[0mproblem\u001B[0m\u001B[1;33m.\u001B[0m\u001B[0mis_dgp\u001B[0m\u001B[1;33m(\u001B[0m\u001B[1;33m)\u001B[0m\u001B[1;33m:\u001B[0m\u001B[1;33m\u001B[0m\u001B[1;33m\u001B[0m\u001B[0m\n\u001B[0;32m     97\u001B[0m         \u001B[0mappend\u001B[0m \u001B[1;33m=\u001B[0m \u001B[0mbuild_non_disciplined_error_msg\u001B[0m\u001B[1;33m(\u001B[0m\u001B[0mproblem\u001B[0m\u001B[1;33m,\u001B[0m \u001B[1;34m'DGP'\u001B[0m\u001B[1;33m)\u001B[0m\u001B[1;33m\u001B[0m\u001B[1;33m\u001B[0m\u001B[0m\n",
      "\u001B[1;31mDCPError\u001B[0m: Problem does not follow DCP rules. Specifically:\nThe objective is not DCP. Its following subexpressions are not:\n(Promote(0.131, (123,)) + var1) @ var2"
     ]
    }
   ],
   "source": [
    "# 多目标规划\n",
    "\n",
    "import cvxpy as cp\n",
    "\n",
    "n=123\n",
    "\n",
    "def f(p, r):\n",
    "    if p > 0.75:\n",
    "        return 0.1207 * r + 0.0408\n",
    "    elif p > 0.5:\n",
    "        return 0.1310 * r + 0.0424\n",
    "    elif p > 0.25:\n",
    "        return 0.1304 * r + 0.0438\n",
    "    else:\n",
    "        return 0\n",
    "\n",
    "\n",
    "# Define and solve the CVXPY problem.\n",
    "x = cp.Variable(n) # 贷款额\n",
    "r = cp.Variable(n) # 利率\n",
    "p = np.array(res.predict(df.iloc[:, :-1]).reset_index()[0]) # 信誉\n",
    "\n",
    "prob = cp.Problem(cp.Minimize((0.1310+x )@ r),\n",
    "                 [x <= 100.0, x >= 10.0, r >= 0.04, r <= 0.15])\n",
    "prob.solve()\n",
    "\n",
    "# 1 / cp.sum((r - p) @ x) + cp.sum(p @ x) +"
   ],
   "metadata": {
    "collapsed": false,
    "pycharm": {
     "name": "#%%\n"
    }
   }
  },
  {
   "cell_type": "code",
   "execution_count": null,
   "outputs": [],
   "source": [
    "print(\"\\nThe optimal value is\", prob.value)\n",
    "print(\"A solution x is\")\n",
    "print(x.value)\n",
    "print(\"A dual solution is\")\n",
    "print(prob.constraints[0].dual_value)"
   ],
   "metadata": {
    "collapsed": false,
    "pycharm": {
     "name": "#%%\n"
    }
   }
  },
  {
   "cell_type": "code",
   "execution_count": null,
   "outputs": [],
   "source": [
    "d2_CompanyInfoData = pd.read_excel(r'data2.xlsx', sheet_name=0)\n",
    "d2_BillImportData = pd.read_excel(r'data2.xlsx', sheet_name=1)\n",
    "d2_BillOutportData = pd.read_excel(r'data2.xlsx', sheet_name=2)"
   ],
   "metadata": {
    "collapsed": false,
    "pycharm": {
     "name": "#%%\n"
    }
   }
  },
  {
   "cell_type": "code",
   "execution_count": null,
   "outputs": [],
   "source": [
    "def check_nan_2(series, t=1):\n",
    "    if t:\n",
    "        for i in range(124, 426):\n",
    "            if not series.get(i):\n",
    "                series[i] = 0\n",
    "    else:\n",
    "        for i in np.arange(124.0, 426.0):\n",
    "            if not series.get(i):\n",
    "                series[i] = 0"
   ],
   "metadata": {
    "collapsed": false,
    "pycharm": {
     "name": "#%%\n"
    }
   }
  },
  {
   "cell_type": "code",
   "execution_count": null,
   "outputs": [],
   "source": [
    "def depose(OutportData, ImportData):\n",
    "    # CompanyInfoData.loc[CompanyInfoData['是否违约'] == '否', '是否违约'] = 0\n",
    "    # CompanyInfoData.loc[CompanyInfoData['是否违约'] == '是', '是否违约'] = 1\n",
    "    # print(CompanyInfoData['是否违约'].value_counts())\n",
    "    # 进项发票状态修改为数值\n",
    "    OutportData.drop_duplicates(inplace=True)\n",
    "    OutportData.loc[OutportData['发票状态'] == '作废发票', '发票状态'] = -1\n",
    "    OutportData.loc[OutportData['发票状态'] == '有效发票', '发票状态'] = 1\n",
    "    OutportData.loc[OutportData['发票状态'] == ' 作废发票', '发票状态'] = -1\n",
    "    OutportData.loc[OutportData['价税合计'] < 0, '发票状态'] = 0\n",
    "    # print(BillOutportData['发票状态'].value_counts())\n",
    "    # 销项发票状态修改为数值\n",
    "    ImportData.drop_duplicates(inplace=True)\n",
    "    ImportData.loc[ImportData['发票状态'] == '作废发票', '发票状态'] = -1\n",
    "    ImportData.loc[ImportData['发票状态'] == ' 作废发票', '发票状态'] = -1\n",
    "    ImportData.loc[ImportData['发票状态'] == '有效发票', '发票状态'] = 1\n",
    "    ImportData.loc[ImportData['价税合计'] < 0, '发票状态'] = 0\n",
    "    # print(BillImportData['发票状态'].value_counts())\n",
    "    # 方便排序 去掉企业代号前字母E\n",
    "    ImportData.loc[:, '企业代号'] = ImportData['企业代号'].str.replace('E', '')\n",
    "    ImportData.loc[:, '企业代号'] = ImportData['企业代号'].astype(dtype='int')\n",
    "    OutportData.loc[:, '企业代号'] = OutportData['企业代号'].str.replace('E', '')\n",
    "    OutportData.loc[:, '企业代号'] = OutportData['企业代号'].astype(dtype='int')\n",
    "\n",
    "    #增加年份 方便统计\n",
    "    ImportData.loc[:, 'year'] = ImportData['开票日期'].dt.year\n",
    "    OutportData.loc[:, 'year'] = OutportData['开票日期'].dt.year\n",
    "    return OutportData, ImportData\n",
    "\n",
    "def Computer(OutportData, ImportData):\n",
    "    # 计算进项、销项的作废数\n",
    "    import_drop_data = ImportData.loc[ImportData['发票状态'] == 0].groupby('企业代号')['企业代号'].count()\n",
    "    import_leave_data = ImportData.loc[ImportData['发票状态'] == -1].groupby('企业代号')['企业代号'].count()\n",
    "    import_amount_data = ImportData.groupby('企业代号')['企业代号'].count()\n",
    "\n",
    "    outport_drop_data = OutportData.loc[OutportData['发票状态'] == 0].groupby('企业代号')['企业代号'].count()\n",
    "    outport_leave_data = OutportData.loc[OutportData['发票状态'] == -1].groupby('企业代号')['企业代号'].count()\n",
    "    outport_amount_data = OutportData.groupby('企业代号')['企业代号'].count()\n",
    "    check_nan_2(import_drop_data)\n",
    "    check_nan_2(import_leave_data)\n",
    "    check_nan_2(import_amount_data)\n",
    "    check_nan_2(outport_drop_data)\n",
    "    check_nan_2(outport_leave_data)\n",
    "    check_nan_2(outport_amount_data)\n",
    "    # 企业销售违约率\n",
    "\n",
    "    # 销项违约率\n",
    "    import_rate = (import_drop_data + import_leave_data) / import_amount_data\n",
    "\n",
    "    # 进项违约率\n",
    "    outport_rate = (outport_drop_data + outport_leave_data) / outport_amount_data\n",
    "\n",
    "    # coo_sale_rate = (import_drop_data + outport_drop_data) / (import_leave_data + import_drop_data + outport_leave_data + outport_drop_data)\n",
    "    rate_date =  (import_drop_data + import_leave_data + outport_drop_data + outport_leave_data) / (import_amount_data +\n",
    "                                                                                                    outport_amount_data)\n",
    "    cut_BillImportData = ImportData.loc[ImportData['发票状态'] > -1]\n",
    "    cut_BillOutportData = OutportData.loc[OutportData['发票状态'] > -1]\n",
    "    # 企业流水量\n",
    "\n",
    "    # 销项\n",
    "    import_acount = cut_BillImportData.groupby('企业代号')['价税合计'].sum()\n",
    "    # 进项\n",
    "    outport_acount = cut_BillOutportData.groupby('企业代号')['价税合计'].sum()\n",
    "\n",
    "\n",
    "    coo_floot_acount = (import_acount + outport_acount) / 10000\n",
    "    import_year_acount = cut_BillImportData.groupby(['企业代号', 'year'])['价税合计'].sum()\n",
    "    outport_year_acount = cut_BillOutportData.groupby(['企业代号', 'year'])['价税合计'].sum()\n",
    "    # 企业年平均毛利润\n",
    "    lirun = (import_year_acount - outport_year_acount).groupby('企业代号').mean()\n",
    "\n",
    "    # 企业年平均毛利润率\n",
    "    lirun_rate = ((import_year_acount - outport_year_acount) / import_acount).groupby('企业代号').mean()\n",
    "        # 年上下游合作企业数量，每年上下游企业合作稳定性，企业是否违约\n",
    "\n",
    "    import_cooperation = cut_BillImportData.drop_duplicates(['购方单位代号', 'year', '企业代号']).groupby(['企业代号', cut_BillImportData['开票日期'].dt.year])['购方单位代号'].count()\n",
    "    outport_cooperation = cut_BillOutportData.drop_duplicates(['销方单位代号', 'year', '企业代号']).groupby(['企业代号',\n",
    "                                                                                            cut_BillOutportData['开票日期'].dt.year])['销方单位代号'].count()\n",
    "    import_cooperation_num = import_cooperation.groupby('企业代号').mean()\n",
    "    outport_cooperation_num = outport_cooperation.groupby('企业代号').mean()\n",
    "    # 每年上下游企业合作稳定性\n",
    "    import_coo = cut_BillImportData.drop_duplicates(['购方单位代号', 'year', '企业代号'])\n",
    "    outport_coo = cut_BillOutportData.drop_duplicates(['销方单位代号', 'year', '企业代号'])\n",
    "    import_coo_sheqi, import_coo_xinzeng = in_out_computer(import_coo, '购方单位代号')\n",
    "    outport_coo_sheqi, outport_coo_xinzeng = in_out_computer(outport_coo, '销方单位代号')\n",
    "    # CompanyInfoData.loc[:, '企业代号'] = CompanyInfoData['企业代号'].str.replace('E', '')\n",
    "    # CompanyInfoData.loc[:, '企业代号'] = CompanyInfoData['企业代号'].astype(dtype='int')\n",
    "    # company_default = CompanyInfoData.loc[:, ['企业代号', '是否违约']]\n",
    "    check_nan_2(import_cooperation_num)\n",
    "    check_nan_2(outport_cooperation_num)\n",
    "    check_nan_2(import_coo_sheqi, 0)\n",
    "    check_nan_2(import_coo_xinzeng, 0)\n",
    "    check_nan_2(outport_coo_sheqi, 0)\n",
    "    check_nan_2(outport_coo_xinzeng, 0)\n",
    "    df2 = pd.DataFrame([coo_floot_acount, lirun, lirun_rate, import_rate,\n",
    "                        outport_cooperation_num+import_cooperation_num,\n",
    "                   import_coo_sheqi, import_coo_xinzeng, np.ones(426)]).T\n",
    "    columns = ['企业总流水量', '企业年平均毛利润', '企业年平均利润率','企业销项销售违约率','年平均合作企业数量',\n",
    "               '下游平均企业新增数量', '下游平均企业终止数量', 'b']\n",
    "    df2.columns=columns\n",
    "    return df2\n"
   ],
   "metadata": {
    "collapsed": false,
    "pycharm": {
     "name": "#%%\n"
    }
   }
  },
  {
   "cell_type": "code",
   "execution_count": null,
   "outputs": [],
   "source": [
    "OutportData, ImportData = depose(d2_BillOutportData, d2_BillImportData)"
   ],
   "metadata": {
    "collapsed": false,
    "pycharm": {
     "name": "#%%\n"
    }
   }
  },
  {
   "cell_type": "code",
   "execution_count": null,
   "outputs": [],
   "source": [
    "df2 = Computer(OutportData, ImportData)"
   ],
   "metadata": {
    "collapsed": false,
    "pycharm": {
     "name": "#%%\n"
    }
   }
  },
  {
   "cell_type": "code",
   "execution_count": null,
   "outputs": [],
   "source": [
    "df2"
   ],
   "metadata": {
    "collapsed": false,
    "pycharm": {
     "name": "#%%\n"
    }
   }
  },
  {
   "cell_type": "code",
   "execution_count": null,
   "outputs": [],
   "source": [
    "logit1 = sm.Logit(df['是否违约'], df.iloc[:, :-2])\n",
    "res1 = logit1.fit()\n",
    "print(res1.summary())"
   ],
   "metadata": {
    "collapsed": false,
    "pycharm": {
     "name": "#%%\n"
    }
   }
  },
  {
   "cell_type": "code",
   "execution_count": null,
   "outputs": [],
   "source": [
    "pred = res1.predict(df2)\n",
    "df3 = pd.DataFrame(pred, columns=['违约率'])"
   ],
   "metadata": {
    "collapsed": false,
    "pycharm": {
     "name": "#%%\n"
    }
   }
  },
  {
   "cell_type": "code",
   "execution_count": null,
   "outputs": [],
   "source": [
    "def xin(x):\n",
    "    if x['违约率'] < 0.25:\n",
    "        return 'A'\n",
    "    elif x['违约率'] < 0.5:\n",
    "        return 'B'\n",
    "    elif x['违约率'] < 0.75:\n",
    "        return 'C'\n",
    "    return 'D'\n",
    "df3.loc[:, '信誉评价'] = df3.apply(xin, axis=1)"
   ],
   "metadata": {
    "collapsed": false,
    "pycharm": {
     "name": "#%%\n"
    }
   }
  },
  {
   "cell_type": "code",
   "execution_count": null,
   "outputs": [],
   "source": [
    "df3['信誉评价'].value_counts()\n"
   ],
   "metadata": {
    "collapsed": false,
    "pycharm": {
     "name": "#%%\n"
    }
   }
  }
 ],
 "metadata": {
  "kernelspec": {
   "display_name": "Python 3 (ipykernel)",
   "language": "python",
   "name": "python3"
  },
  "language_info": {
   "codemirror_mode": {
    "name": "ipython",
    "version": 3
   },
   "file_extension": ".py",
   "mimetype": "text/x-python",
   "name": "python",
   "nbconvert_exporter": "python",
   "pygments_lexer": "ipython3",
   "version": "3.7.6"
  }
 },
 "nbformat": 4,
 "nbformat_minor": 1
}