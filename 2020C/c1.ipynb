{
 "cells": [
  {
   "cell_type": "code",
   "execution_count": 2,
   "metadata": {
    "pycharm": {
     "name": "#%%\n"
    },
    "ExecuteTime": {
     "end_time": "2023-07-02T08:46:12.181924900Z",
     "start_time": "2023-07-02T08:46:12.135425200Z"
    }
   },
   "outputs": [],
   "source": [
    "import numpy as np\n",
    "import pandas as pd\n",
    "import matplotlib as mpl\n",
    "import seaborn as sns\n",
    "import matplotlib.pyplot as plt\n",
    "from matplotlib.ticker import MultipleLocator\n",
    "\n",
    "from sklearn.preprocessing import scale\n",
    "import sklearn.linear_model as skl_lm\n",
    "from sklearn.metrics import mean_squared_error, r2_score\n",
    "import statsmodels.api as sm\n",
    "import statsmodels.formula.api as smf\n",
    "from sklearn.linear_model import LinearRegression,LogisticRegression\n",
    "\n",
    "\n",
    "from sklearn.metrics import roc_curve, auc"
   ]
  },
  {
   "cell_type": "code",
   "execution_count": 3,
   "metadata": {
    "pycharm": {
     "name": "#%%\n"
    },
    "ExecuteTime": {
     "end_time": "2023-07-02T08:46:12.557925800Z",
     "start_time": "2023-07-02T08:46:12.529427Z"
    }
   },
   "outputs": [],
   "source": [
    "# plt.rcParams['font.sans-serif'] = ['Arial Unicode MS']\n",
    "plt.rcParams['font.sans-serif'] = ['Microsoft YaHei']\n",
    "\n",
    "plt.rcParams['axes.unicode_minus'] = False      # 解决保存图像时 负号'-' 显示为方块和报错的问题。\n"
   ]
  },
  {
   "cell_type": "code",
   "execution_count": 4,
   "metadata": {
    "pycharm": {
     "name": "#%%\n"
    },
    "ExecuteTime": {
     "end_time": "2023-07-02T08:46:15.455424900Z",
     "start_time": "2023-07-02T08:46:13.432925400Z"
    }
   },
   "outputs": [],
   "source": [
    "# 读取文件\n",
    "CompanyInfoData = pd.read_excel(r'data1.xlsx', sheet_name=0)"
   ]
  },
  {
   "cell_type": "code",
   "execution_count": 5,
   "metadata": {
    "pycharm": {
     "name": "#%%\n"
    },
    "ExecuteTime": {
     "end_time": "2023-07-02T08:46:52.438106200Z",
     "start_time": "2023-07-02T08:46:15.414426900Z"
    }
   },
   "outputs": [],
   "source": [
    "# 支出 上游\n",
    "BillOutportData = pd.read_excel(r'data1.xlsx', sheet_name=1)"
   ]
  },
  {
   "cell_type": "code",
   "execution_count": 6,
   "metadata": {
    "pycharm": {
     "name": "#%%\n"
    },
    "ExecuteTime": {
     "end_time": "2023-07-02T08:47:07.379604300Z",
     "start_time": "2023-07-02T08:46:52.440180600Z"
    }
   },
   "outputs": [],
   "source": [
    "# 收入 下游\n",
    "BillImportData = pd.read_excel(r'data1.xlsx', sheet_name=2)"
   ]
  },
  {
   "cell_type": "code",
   "execution_count": 7,
   "metadata": {
    "pycharm": {
     "name": "#%%\n"
    },
    "ExecuteTime": {
     "end_time": "2023-07-02T08:47:07.394606800Z",
     "start_time": "2023-07-02T08:47:07.382605500Z"
    }
   },
   "outputs": [
    {
     "name": "stdout",
     "output_type": "stream",
     "text": [
      "0    96\n",
      "1    27\n",
      "Name: 是否违约, dtype: int64\n"
     ]
    }
   ],
   "source": [
    "# 用数字标记特征值\n",
    "CompanyInfoData.loc[CompanyInfoData['是否违约'] == '否', '是否违约'] = 0\n",
    "CompanyInfoData.loc[CompanyInfoData['是否违约'] == '是', '是否违约'] = 1\n",
    "print(CompanyInfoData['是否违约'].value_counts())"
   ]
  },
  {
   "cell_type": "code",
   "execution_count": 8,
   "metadata": {
    "pycharm": {
     "name": "#%%\n"
    },
    "ExecuteTime": {
     "end_time": "2023-07-02T08:47:07.585603200Z",
     "start_time": "2023-07-02T08:47:07.402103900Z"
    }
   },
   "outputs": [
    {
     "name": "stdout",
     "output_type": "stream",
     "text": [
      " 1    200730\n",
      "-1      7544\n",
      " 0      1870\n",
      "Name: 发票状态, dtype: int64\n"
     ]
    }
   ],
   "source": [
    "# 进项发票状态修改为数值\n",
    "BillOutportData.drop_duplicates(inplace=True)\n",
    "BillOutportData.loc[BillOutportData['发票状态'] == '作废发票', '发票状态'] = -1\n",
    "BillOutportData.loc[BillOutportData['发票状态'] == '有效发票', '发票状态'] = 1\n",
    "BillOutportData.loc[BillOutportData['价税合计'] < 0, '发票状态'] = 0\n",
    "print(BillOutportData['发票状态'].value_counts())"
   ]
  },
  {
   "cell_type": "code",
   "execution_count": 9,
   "metadata": {
    "pycharm": {
     "name": "#%%\n"
    },
    "ExecuteTime": {
     "end_time": "2023-07-02T08:47:07.783104800Z",
     "start_time": "2023-07-02T08:47:07.587603500Z"
    }
   },
   "outputs": [
    {
     "name": "stdout",
     "output_type": "stream",
     "text": [
      " 1    138823\n",
      "-1     10730\n",
      " 0      8495\n",
      "Name: 发票状态, dtype: int64\n"
     ]
    }
   ],
   "source": [
    "# 销项发票状态修改为数值\n",
    "BillImportData.drop_duplicates(inplace=True)\n",
    "BillImportData.loc[BillImportData['发票状态'] == '作废发票', '发票状态'] = -1\n",
    "BillImportData.loc[BillImportData['发票状态'] == ' 作废发票', '发票状态'] = -1\n",
    "BillImportData.loc[BillImportData['发票状态'] == '有效发票', '发票状态'] = 1\n",
    "BillImportData.loc[BillImportData['价税合计'] < 0, '发票状态'] = 0\n",
    "print(BillImportData['发票状态'].value_counts())"
   ]
  },
  {
   "cell_type": "code",
   "execution_count": 10,
   "metadata": {
    "pycharm": {
     "name": "#%%\n"
    },
    "ExecuteTime": {
     "end_time": "2023-07-02T08:47:07.938104600Z",
     "start_time": "2023-07-02T08:47:07.786104Z"
    }
   },
   "outputs": [
    {
     "name": "stderr",
     "output_type": "stream",
     "text": [
      "C:\\Users\\pc\\AppData\\Local\\Temp\\ipykernel_13684\\1575474034.py:3: DeprecationWarning: In a future version, `df.iloc[:, i] = newvals` will attempt to set the values inplace instead of always setting a new array. To retain the old behavior, use either `df[df.columns[i]] = newvals` or, if columns are non-unique, `df.isetitem(i, newvals)`\n",
      "  BillImportData.loc[:, '企业代号'] = BillImportData['企业代号'].astype(dtype='int')\n",
      "C:\\Users\\pc\\AppData\\Local\\Temp\\ipykernel_13684\\1575474034.py:5: DeprecationWarning: In a future version, `df.iloc[:, i] = newvals` will attempt to set the values inplace instead of always setting a new array. To retain the old behavior, use either `df[df.columns[i]] = newvals` or, if columns are non-unique, `df.isetitem(i, newvals)`\n",
      "  BillOutportData.loc[:, '企业代号'] = BillOutportData['企业代号'].astype(dtype='int')\n"
     ]
    }
   ],
   "source": [
    "# 方便排序 去掉企业代号前字母E\n",
    "BillImportData.loc[:, '企业代号'] = BillImportData['企业代号'].str.replace('E', '')\n",
    "BillImportData.loc[:, '企业代号'] = BillImportData['企业代号'].astype(dtype='int')\n",
    "BillOutportData.loc[:, '企业代号'] = BillOutportData['企业代号'].str.replace('E', '')\n",
    "BillOutportData.loc[:, '企业代号'] = BillOutportData['企业代号'].astype(dtype='int')\n",
    "\n",
    "#增加年份 方便统计\n",
    "BillImportData.loc[:, 'year'] = BillImportData['开票日期'].dt.year\n",
    "BillOutportData.loc[:, 'year'] = BillOutportData['开票日期'].dt.year"
   ]
  },
  {
   "cell_type": "code",
   "execution_count": 11,
   "metadata": {
    "pycharm": {
     "name": "#%%\n"
    },
    "ExecuteTime": {
     "end_time": "2023-07-02T08:47:08.017604100Z",
     "start_time": "2023-07-02T08:47:07.938604800Z"
    }
   },
   "outputs": [],
   "source": [
    "# 计算进项、销项的作废数\n",
    "import_drop_data = BillImportData.loc[BillImportData['发票状态'] == 0].groupby('企业代号')['企业代号'].count()\n",
    "import_leave_data = BillImportData.loc[BillImportData['发票状态'] == -1].groupby('企业代号')['企业代号'].count()\n",
    "import_amount_data = BillImportData.groupby('企业代号')['企业代号'].count()\n",
    "\n",
    "outport_drop_data = BillOutportData.loc[BillOutportData['发票状态'] == 0].groupby('企业代号')['企业代号'].count()\n",
    "outport_leave_data = BillOutportData.loc[BillOutportData['发票状态'] == -1].groupby('企业代号')['企业代号'].count()\n",
    "outport_amount_data = BillOutportData.groupby('企业代号')['企业代号'].count()"
   ]
  },
  {
   "cell_type": "code",
   "execution_count": 12,
   "metadata": {
    "pycharm": {
     "name": "#%%\n"
    },
    "ExecuteTime": {
     "end_time": "2023-07-02T08:47:08.030103400Z",
     "start_time": "2023-07-02T08:47:08.018103600Z"
    }
   },
   "outputs": [],
   "source": [
    "def check_nan(series, t=1):\n",
    "    if t:\n",
    "        for i in range(1, 124):\n",
    "            if not series.get(i):\n",
    "                series[i] = 0\n",
    "    else:\n",
    "        for i in np.arange(1.0, 124.0):\n",
    "            if not series.get(i):\n",
    "                series[i] = 0"
   ]
  },
  {
   "cell_type": "code",
   "execution_count": 13,
   "metadata": {
    "pycharm": {
     "name": "#%%\n"
    },
    "ExecuteTime": {
     "end_time": "2023-07-02T08:47:08.099630100Z",
     "start_time": "2023-07-02T08:47:08.067103200Z"
    }
   },
   "outputs": [],
   "source": [
    "check_nan(import_drop_data)\n",
    "check_nan(import_leave_data)\n",
    "check_nan(import_amount_data)\n",
    "check_nan(outport_drop_data)\n",
    "check_nan(outport_leave_data)\n",
    "check_nan(outport_amount_data)"
   ]
  },
  {
   "cell_type": "code",
   "execution_count": 14,
   "metadata": {
    "pycharm": {
     "name": "#%%\n"
    },
    "ExecuteTime": {
     "end_time": "2023-07-02T08:47:08.108105500Z",
     "start_time": "2023-07-02T08:47:08.097116Z"
    }
   },
   "outputs": [],
   "source": [
    "# 企业销售违约率\n",
    "# 进项履约率\n",
    "import_rate = (import_drop_data + import_leave_data) / import_amount_data\n",
    "\n",
    "# 销项履约率\n",
    "outport_rate = (outport_drop_data + outport_leave_data) / outport_amount_data\n",
    "\n",
    "# coo_sale_rate = (import_drop_data + outport_drop_data) / (import_leave_data + import_drop_data + outport_leave_data + outport_drop_data)\n",
    "rate_date =  (import_drop_data + import_leave_data + outport_drop_data + outport_leave_data) / (import_amount_data +\n",
    "                                                                                                outport_amount_data)"
   ]
  },
  {
   "cell_type": "code",
   "execution_count": 15,
   "metadata": {
    "pycharm": {
     "name": "#%%\n"
    },
    "ExecuteTime": {
     "end_time": "2023-07-02T08:47:08.480310200Z",
     "start_time": "2023-07-02T08:47:08.111144300Z"
    }
   },
   "outputs": [
    {
     "data": {
      "text/plain": "<Figure size 1000x500 with 1 Axes>",
      "image/png": "[encoded data removed]"
     },
     "metadata": {},
     "output_type": "display_data"
    }
   ],
   "source": [
    "# 条形图\n",
    "fig, ax = plt.subplots(1, 1, figsize=(10, 5), tight_layout=True)\n",
    "rate_date.plot.bar()\n",
    "ax.xaxis.set_major_locator(MultipleLocator(20))\n",
    "ax.set_ylabel('作废交易的百分比/%')\n",
    "plt.show()"
   ]
  },
  {
   "cell_type": "code",
   "execution_count": 16,
   "metadata": {
    "pycharm": {
     "name": "#%%\n"
    },
    "ExecuteTime": {
     "end_time": "2023-07-02T08:47:09.487340900Z",
     "start_time": "2023-07-02T08:47:08.498808400Z"
    }
   },
   "outputs": [
    {
     "data": {
      "text/plain": "<Figure size 1000x500 with 2 Axes>",
      "image/png": "[encoded data removed]"
     },
     "metadata": {},
     "output_type": "display_data"
    }
   ],
   "source": [
    "# 删除异常数据前的箱型图\n",
    "fig, (ax1,ax2) = plt.subplots(1, 2, figsize=(10, 5), tight_layout=True)\n",
    "BillImportData.boxplot(column=['金额', '税额', '价税合计'], ax=ax1)\n",
    "ax1.set_title('进项发票箱型图')\n",
    "BillOutportData.boxplot(column=['金额', '税额', '价税合计'], ax= ax2)\n",
    "ax2.set_title('销项发票箱型图')\n",
    "plt.show()"
   ]
  },
  {
   "cell_type": "code",
   "execution_count": 17,
   "metadata": {
    "pycharm": {
     "name": "#%%\n"
    },
    "ExecuteTime": {
     "end_time": "2023-07-02T08:47:09.584840800Z",
     "start_time": "2023-07-02T08:47:09.489339900Z"
    }
   },
   "outputs": [],
   "source": [
    "# import_std = BillImportData.loc[:, ['金额', '税额', '价税合计']].std()\n",
    "# new_BillImportData = BillImportData.loc[(abs(BillImportData['金额']) < 4*import_std['金额'])&\n",
    "#                    (abs(BillImportData['税额']) < 4*import_std['税额'])&\n",
    "#                    (abs(BillImportData['价税合计']) < 4*import_std['价税合计'])]\n",
    "# outport_std = BillOutportData.loc[:, ['金额', '税额', '价税合计']].std()\n",
    "# new_BillOutportData = BillOutportData.loc[(abs(BillOutportData['金额']) < 4*import_std['金额'])&\n",
    "#                                       (abs(BillOutportData['税额']) < 4*import_std['税额'])&\n",
    "#                                       (abs(BillOutportData['价税合计']) < 4*import_std['价税合计'])]\n",
    "cut_BillImportData = BillImportData.loc[BillImportData['发票状态'] > -1]\n",
    "cut_BillOutportData = BillOutportData.loc[BillOutportData['发票状态'] > -1]"
   ]
  },
  {
   "cell_type": "code",
   "execution_count": 18,
   "metadata": {
    "pycharm": {
     "name": "#%%\n"
    },
    "ExecuteTime": {
     "end_time": "2023-07-02T08:47:10.556340800Z",
     "start_time": "2023-07-02T08:47:09.536841400Z"
    }
   },
   "outputs": [
    {
     "data": {
      "text/plain": "<Figure size 800x500 with 2 Axes>",
      "image/png": "[encoded data removed]"
     },
     "metadata": {},
     "output_type": "display_data"
    }
   ],
   "source": [
    "# 删除异常数据后的箱型图\n",
    "fig, (ax1,ax2) = plt.subplots(1, 2, figsize=(8, 5), tight_layout=True)\n",
    "cut_BillOutportData.boxplot(column=['金额', '税额', '价税合计'], ax = ax1)\n",
    "ax1.set_title('箱型图')\n",
    "cut_BillImportData.boxplot(column=['金额', '税额', '价税合计'], ax = ax2)\n",
    "ax2.set_title('箱型图')\n",
    "plt.show()"
   ]
  },
  {
   "cell_type": "code",
   "execution_count": 19,
   "metadata": {
    "pycharm": {
     "name": "#%%\n"
    },
    "ExecuteTime": {
     "end_time": "2023-07-02T08:47:10.601339800Z",
     "start_time": "2023-07-02T08:47:10.559345300Z"
    }
   },
   "outputs": [],
   "source": [
    "# 企业流水量\n",
    "\n",
    "# 销项\n",
    "import_acount = cut_BillImportData.groupby('企业代号')['价税合计'].sum()\n",
    "# 进项\n",
    "outport_acount = cut_BillOutportData.groupby('企业代号')['价税合计'].sum()\n",
    "\n",
    "\n",
    "coo_floot_acount = (import_acount + outport_acount) / 10000"
   ]
  },
  {
   "cell_type": "code",
   "execution_count": 20,
   "metadata": {
    "pycharm": {
     "name": "#%%\n"
    },
    "ExecuteTime": {
     "end_time": "2023-07-02T08:47:10.611842600Z",
     "start_time": "2023-07-02T08:47:10.574840900Z"
    }
   },
   "outputs": [],
   "source": [
    "import_year_acount = cut_BillImportData.groupby(['企业代号', 'year'])['价税合计'].sum()\n",
    "outport_year_acount = cut_BillOutportData.groupby(['企业代号', 'year'])['价税合计'].sum()"
   ]
  },
  {
   "cell_type": "code",
   "execution_count": 21,
   "metadata": {
    "pycharm": {
     "name": "#%%\n"
    },
    "ExecuteTime": {
     "end_time": "2023-07-02T08:47:10.626391600Z",
     "start_time": "2023-07-02T08:47:10.604840200Z"
    }
   },
   "outputs": [
    {
     "data": {
      "text/plain": "企业代号\n1     -4.848308e+08\n2      9.137705e+07\n3      1.504348e+08\n4      6.306574e+08\n5      1.535749e+06\n           ...     \n119   -6.403791e+04\n120    4.871683e+04\n121   -5.689162e+05\n122    1.748585e+03\n123    7.557323e+04\nName: 价税合计, Length: 123, dtype: float64"
     },
     "execution_count": 21,
     "metadata": {},
     "output_type": "execute_result"
    }
   ],
   "source": [
    "# 企业年平均毛利润\n",
    "lirun = (import_year_acount - outport_year_acount).groupby('企业代号').mean()\n",
    "\n",
    "lirun"
   ]
  },
  {
   "cell_type": "code",
   "execution_count": 22,
   "metadata": {
    "pycharm": {
     "name": "#%%\n"
    },
    "ExecuteTime": {
     "end_time": "2023-07-02T08:47:10.669843500Z",
     "start_time": "2023-07-02T08:47:10.625341700Z"
    }
   },
   "outputs": [
    {
     "data": {
      "text/plain": "企业代号\n1     -0.103186\n2      0.173064\n3      0.229350\n4      0.293802\n5      0.006583\n         ...   \n119   -1.742907\n120    0.248057\n121   -4.977936\n122    0.028788\n123    0.332103\nName: 价税合计, Length: 123, dtype: float64"
     },
     "execution_count": 22,
     "metadata": {},
     "output_type": "execute_result"
    }
   ],
   "source": [
    "# 企业年平均毛利润率\n",
    "lirun_rate = ((import_year_acount - outport_year_acount) / import_acount).groupby('企业代号').mean()\n",
    "lirun_rate"
   ]
  },
  {
   "cell_type": "code",
   "execution_count": 23,
   "metadata": {
    "pycharm": {
     "name": "#%%\n"
    },
    "ExecuteTime": {
     "end_time": "2023-07-02T08:47:10.726341Z",
     "start_time": "2023-07-02T08:47:10.638341100Z"
    }
   },
   "outputs": [],
   "source": [
    "# 年上下游合作企业数量，每年上下游企业合作稳定性，企业是否违约\n",
    "\n",
    "import_cooperation = cut_BillImportData.drop_duplicates(['购方单位代号', 'year', '企业代号']).groupby(['企业代号', cut_BillImportData['开票日期'].dt.year])['购方单位代号'].count()\n",
    "# import_cooperation = cut_BillImportData.drop_duplicates(['销方单位代号', 'year']).groupby('企业代号')['销方单位代号'].count()\n",
    "\n",
    "outport_cooperation = cut_BillOutportData.drop_duplicates(['销方单位代号', 'year', '企业代号']).groupby(['企业代号',\n",
    "                                                                                        cut_BillOutportData['开票日期'].dt.year])['销方单位代号'].count()\n",
    "# outport_cooperation = cut_BillOutportData.drop_duplicates(['购方单位代号', 'year']).groupby('企业代号')['购方单位代号'].count()\n",
    "import_cooperation_num = import_cooperation.groupby('企业代号').mean()\n",
    "outport_cooperation_num = outport_cooperation.groupby('企业代号').mean()"
   ]
  },
  {
   "cell_type": "code",
   "execution_count": 24,
   "metadata": {
    "pycharm": {
     "name": "#%%\n"
    },
    "ExecuteTime": {
     "end_time": "2023-07-02T08:47:10.789416100Z",
     "start_time": "2023-07-02T08:47:10.728341200Z"
    }
   },
   "outputs": [],
   "source": [
    "# 每年上下游企业合作稳定性\n",
    "import_coo = cut_BillImportData.drop_duplicates(['购方单位代号', 'year', '企业代号'])\n",
    "outport_coo = cut_BillOutportData.drop_duplicates(['销方单位代号', 'year', '企业代号'])"
   ]
  },
  {
   "cell_type": "code",
   "execution_count": 25,
   "metadata": {
    "pycharm": {
     "name": "#%%\n"
    },
    "ExecuteTime": {
     "end_time": "2023-07-02T08:47:14.415840800Z",
     "start_time": "2023-07-02T08:47:10.794340300Z"
    }
   },
   "outputs": [],
   "source": [
    "def in_out_computer(coo, nkey):\n",
    "    cooperate_stable = pd.DataFrame({'企业代号':[], 'year': [], 'sheqi': [], 'xinzeng': []})\n",
    "    item = coo.drop_duplicates(['企业代号', 'year'])[['企业代号', 'year']]\n",
    "    for i in item.index:\n",
    "        company = item['企业代号'].get(i)\n",
    "        year = item['year'].get(i)\n",
    "        if coo.loc[(coo['企业代号'] == company)&(coo['year'] == year + 1)].count()['企业代号'] != 0:\n",
    "            alls = coo.loc[(coo['企业代号'] == company)&((coo['year'] == year)|(coo['year'] == year +\n",
    "                                                                                        1))]\n",
    "    #         cur.drop_duplicates('销方单位代号', keep=False)\n",
    "            difference = alls.count()['企业代号'] - alls.drop_duplicates(nkey, keep=False).count()['企业代号']\n",
    "            pre_num = alls.loc[alls['year'] == year].count()['企业代号']\n",
    "            bac_num = alls.loc[alls['year'] == year + 1].count()['企业代号']\n",
    "            sheqi = pre_num - difference\n",
    "            xinzeng = bac_num - difference\n",
    "            cooperate_stable.loc[len(cooperate_stable.index)] = [company, year + 1, sheqi, xinzeng]\n",
    "    return cooperate_stable.groupby('企业代号')['sheqi'].mean(), cooperate_stable.groupby('企业代号')['xinzeng'].mean()\n",
    "\n",
    "import_coo_sheqi, import_coo_xinzeng = in_out_computer(import_coo, '购方单位代号')\n",
    "outport_coo_sheqi, outport_coo_xinzeng = in_out_computer(outport_coo, '销方单位代号')"
   ]
  },
  {
   "cell_type": "code",
   "execution_count": 26,
   "metadata": {
    "pycharm": {
     "name": "#%%\n"
    },
    "ExecuteTime": {
     "end_time": "2023-07-02T08:47:14.431839300Z",
     "start_time": "2023-07-02T08:47:14.420342400Z"
    }
   },
   "outputs": [
    {
     "name": "stderr",
     "output_type": "stream",
     "text": [
      "C:\\Users\\pc\\AppData\\Local\\Temp\\ipykernel_13684\\220882350.py:3: DeprecationWarning: In a future version, `df.iloc[:, i] = newvals` will attempt to set the values inplace instead of always setting a new array. To retain the old behavior, use either `df[df.columns[i]] = newvals` or, if columns are non-unique, `df.isetitem(i, newvals)`\n",
      "  CompanyInfoData.loc[:, '企业代号'] = CompanyInfoData['企业代号'].astype(dtype='int')\n"
     ]
    }
   ],
   "source": [
    "# 企业是否违约\n",
    "CompanyInfoData.loc[:, '企业代号'] = CompanyInfoData['企业代号'].str.replace('E', '')\n",
    "CompanyInfoData.loc[:, '企业代号'] = CompanyInfoData['企业代号'].astype(dtype='int')\n",
    "company_default = CompanyInfoData.loc[:, ['企业代号', '是否违约']]"
   ]
  },
  {
   "cell_type": "code",
   "execution_count": 27,
   "metadata": {
    "pycharm": {
     "name": "#%%\n"
    },
    "ExecuteTime": {
     "end_time": "2023-07-02T08:47:14.490937600Z",
     "start_time": "2023-07-02T08:47:14.437340600Z"
    }
   },
   "outputs": [],
   "source": [
    "# 企业信誉评级\n",
    "company_score = CompanyInfoData.loc[:, ['企业代号', '信誉评级']]\n",
    "company_score.loc[:, '信誉评级'] = company_score['信誉评级'].str.replace('A', '1')\n",
    "company_score.loc[:, '信誉评级'] = company_score['信誉评级'].str.replace('B', '0.75')\n",
    "company_score.loc[:, '信誉评级'] = company_score['信誉评级'].str.replace('C', '0.5')\n",
    "company_score.loc[:, '信誉评级'] = company_score['信誉评级'].str.replace('D', '0.25')\n",
    "company_score['信誉评级'].astype(dtype='float')\n",
    "# company_score = pd.DataFrame(company_score.get('信誉评级'), index=np.arange(1, 124))\n",
    "company_score.index = np.arange(1, 124)\n"
   ]
  },
  {
   "cell_type": "code",
   "execution_count": 28,
   "metadata": {
    "pycharm": {
     "name": "#%%\n"
    },
    "ExecuteTime": {
     "end_time": "2023-07-02T08:47:14.504342300Z",
     "start_time": "2023-07-02T08:47:14.448341300Z"
    }
   },
   "outputs": [],
   "source": [
    "# 企业总流水量\n",
    "# coo_floot_acount"
   ]
  },
  {
   "cell_type": "code",
   "execution_count": 29,
   "metadata": {
    "pycharm": {
     "name": "#%%\n"
    },
    "ExecuteTime": {
     "end_time": "2023-07-02T08:47:14.504841Z",
     "start_time": "2023-07-02T08:47:14.463840400Z"
    }
   },
   "outputs": [],
   "source": [
    "# 企业年毛利润\n",
    "# lirun"
   ]
  },
  {
   "cell_type": "code",
   "execution_count": 30,
   "metadata": {
    "pycharm": {
     "name": "#%%\n"
    },
    "ExecuteTime": {
     "end_time": "2023-07-02T08:47:14.505341500Z",
     "start_time": "2023-07-02T08:47:14.482841Z"
    }
   },
   "outputs": [
    {
     "data": {
      "text/plain": "企业代号\n1      179.500000\n2      554.500000\n3       68.750000\n4       12.000000\n5       13.000000\n          ...    \n119      5.666667\n120      2.000000\n121     61.000000\n122     17.750000\n123      2.666667\nName: 购方单位代号, Length: 123, dtype: float64"
     },
     "execution_count": 30,
     "metadata": {},
     "output_type": "execute_result"
    }
   ],
   "source": [
    "# 上游年平均合作企业数量\n",
    "check_nan(import_cooperation_num)\n",
    "import_cooperation_num"
   ]
  },
  {
   "cell_type": "code",
   "execution_count": 31,
   "metadata": {
    "pycharm": {
     "name": "#%%\n"
    },
    "ExecuteTime": {
     "end_time": "2023-07-02T08:47:14.514841900Z",
     "start_time": "2023-07-02T08:47:14.501841400Z"
    }
   },
   "outputs": [
    {
     "data": {
      "text/plain": "企业代号\n1       143.250000\n2      1337.750000\n3       215.250000\n4        46.000000\n5       121.000000\n          ...     \n119       8.250000\n120       6.333333\n121       5.666667\n122       6.750000\n123       1.000000\nName: 销方单位代号, Length: 123, dtype: float64"
     },
     "execution_count": 31,
     "metadata": {},
     "output_type": "execute_result"
    }
   ],
   "source": [
    "# 下游年平均合作企业数量\n",
    "check_nan(outport_cooperation_num)\n",
    "outport_cooperation_num"
   ]
  },
  {
   "cell_type": "code",
   "execution_count": 32,
   "metadata": {
    "pycharm": {
     "name": "#%%\n"
    },
    "ExecuteTime": {
     "end_time": "2023-07-02T08:47:14.551860Z",
     "start_time": "2023-07-02T08:47:14.512342400Z"
    }
   },
   "outputs": [],
   "source": [
    "# 上游平均企业新增数量，上游平均企业终止数量\n",
    "#import_coo_sheqi, import_coo_xinzeng\n",
    "check_nan(import_coo_sheqi, 0)\n",
    "check_nan(import_coo_xinzeng, 0)\n",
    "check_nan(outport_coo_sheqi, 0)\n",
    "check_nan(outport_coo_xinzeng, 0)\n"
   ]
  },
  {
   "cell_type": "code",
   "execution_count": 33,
   "metadata": {
    "pycharm": {
     "name": "#%%\n"
    },
    "ExecuteTime": {
     "end_time": "2023-07-02T08:47:14.552341Z",
     "start_time": "2023-07-02T08:47:14.527341600Z"
    }
   },
   "outputs": [],
   "source": [
    "df = pd.DataFrame([coo_floot_acount, lirun, lirun_rate, import_rate, outport_cooperation_num+import_cooperation_num,\n",
    "                   import_coo_sheqi, import_coo_xinzeng, np.ones(124), company_score['信誉评级'].astype(dtype='float'),\n",
    "                   pd.DataFrame([company_default['是否违约']]).T.set_index(np.arange(1, 124)).get('是否违约')]).T\n",
    "columns = ['企业总流水量', '企业年平均毛利润', '企业年平均利润率','企业销项销售违约率','年平均合作企业数量',\n",
    "           '下游平均企业新增数量', '下游平均企业终止数量', 'b', '信誉评级', '是否违约']\n",
    "df.columns=columns"
   ]
  },
  {
   "cell_type": "code",
   "execution_count": 34,
   "metadata": {
    "pycharm": {
     "name": "#%%\n"
    },
    "ExecuteTime": {
     "end_time": "2023-07-02T08:47:14.564340600Z",
     "start_time": "2023-07-02T08:47:14.541342400Z"
    }
   },
   "outputs": [
    {
     "name": "stdout",
     "output_type": "stream",
     "text": [
      "Optimization terminated successfully.\n",
      "         Current function value: 0.112277\n",
      "         Iterations 13\n"
     ]
    }
   ],
   "source": [
    "logit = sm.Logit(df['是否违约'], df.iloc[:, :-1])\n",
    "res = logit.fit()"
   ]
  },
  {
   "cell_type": "code",
   "execution_count": 35,
   "metadata": {
    "pycharm": {
     "name": "#%%\n"
    },
    "ExecuteTime": {
     "end_time": "2023-07-02T08:47:14.573842Z",
     "start_time": "2023-07-02T08:47:14.560342Z"
    }
   },
   "outputs": [
    {
     "name": "stdout",
     "output_type": "stream",
     "text": [
      "1      False\n",
      "2      False\n",
      "3      False\n",
      "4      False\n",
      "5      False\n",
      "       ...  \n",
      "119     True\n",
      "120     True\n",
      "121     True\n",
      "122     True\n",
      "123     True\n",
      "Length: 123, dtype: bool\n"
     ]
    }
   ],
   "source": [
    "print(res.predict(df.iloc[:, :-1]) > 0.5 )"
   ]
  },
  {
   "cell_type": "code",
   "execution_count": 36,
   "outputs": [
    {
     "data": {
      "text/plain": "      1     0\n1  96.0   0.0\n0   3.0  24.0",
      "text/html": "<div>\n<style scoped>\n    .dataframe tbody tr th:only-of-type {\n        vertical-align: middle;\n    }\n\n    .dataframe tbody tr th {\n        vertical-align: top;\n    }\n\n    .dataframe thead th {\n        text-align: right;\n    }\n</style>\n<table border=\"1\" class=\"dataframe\">\n  <thead>\n    <tr style=\"text-align: right;\">\n      <th></th>\n      <th>1</th>\n      <th>0</th>\n    </tr>\n  </thead>\n  <tbody>\n    <tr>\n      <th>1</th>\n      <td>96.0</td>\n      <td>0.0</td>\n    </tr>\n    <tr>\n      <th>0</th>\n      <td>3.0</td>\n      <td>24.0</td>\n    </tr>\n  </tbody>\n</table>\n</div>"
     },
     "execution_count": 36,
     "metadata": {},
     "output_type": "execute_result"
    }
   ],
   "source": [
    "wd_probs = res.pred_table()\n",
    "pd.DataFrame(wd_probs, columns=['1', '0'], index=['1', '0'])"
   ],
   "metadata": {
    "collapsed": false,
    "pycharm": {
     "name": "#%%\n"
    },
    "ExecuteTime": {
     "end_time": "2023-07-02T08:47:14.630339700Z",
     "start_time": "2023-07-02T08:47:14.573842Z"
    }
   }
  },
  {
   "cell_type": "code",
   "execution_count": 37,
   "metadata": {
    "pycharm": {
     "name": "#%%\n"
    },
    "ExecuteTime": {
     "end_time": "2023-07-02T08:47:14.631343100Z",
     "start_time": "2023-07-02T08:47:14.587841400Z"
    }
   },
   "outputs": [
    {
     "name": "stdout",
     "output_type": "stream",
     "text": [
      "                           Logit Regression Results                           \n",
      "==============================================================================\n",
      "Dep. Variable:                   是否违约   No. Observations:                  123\n",
      "Model:                          Logit   Df Residuals:                      114\n",
      "Method:                           MLE   Df Model:                            8\n",
      "Date:                Sun, 02 Jul 2023   Pseudo R-squ.:                  0.7867\n",
      "Time:                        16:47:14   Log-Likelihood:                -13.810\n",
      "converged:                       True   LL-Null:                       -64.734\n",
      "Covariance Type:            nonrobust   LLR p-value:                 1.789e-18\n",
      "==============================================================================\n",
      "                 coef    std err          z      P>|z|      [0.025      0.975]\n",
      "------------------------------------------------------------------------------\n",
      "企业总流水量        -0.0001      0.000     -0.463      0.643      -0.001       0.000\n",
      "企业年平均毛利润    4.412e-08   1.06e-07      0.418      0.676   -1.63e-07    2.51e-07\n",
      "企业年平均利润率      -1.3732      2.313     -0.594      0.553      -5.907       3.161\n",
      "企业销项销售违约率     -4.3741      4.411     -0.992      0.321     -13.019       4.271\n",
      "年平均合作企业数量     -0.0120      0.010     -1.200      0.230      -0.032       0.008\n",
      "下游平均企业新增数量    -0.1197      0.089     -1.350      0.177      -0.293       0.054\n",
      "下游平均企业终止数量     0.1113      0.085      1.304      0.192      -0.056       0.279\n",
      "b             10.7538      3.527      3.049      0.002       3.840      17.668\n",
      "信誉评级         -21.9520      6.265     -3.504      0.000     -34.231      -9.673\n",
      "==============================================================================\n",
      "\n",
      "Possibly complete quasi-separation: A fraction 0.36 of observations can be\n",
      "perfectly predicted. This might indicate that there is complete\n",
      "quasi-separation. In this case some parameters will not be identified.\n"
     ]
    }
   ],
   "source": [
    "print(res.summary())\n"
   ]
  },
  {
   "cell_type": "code",
   "execution_count": 38,
   "outputs": [
    {
     "data": {
      "text/plain": "array([[96.,  0.],\n       [ 3., 24.]])"
     },
     "execution_count": 38,
     "metadata": {},
     "output_type": "execute_result"
    }
   ],
   "source": [
    "wd_probs"
   ],
   "metadata": {
    "collapsed": false,
    "ExecuteTime": {
     "end_time": "2023-07-02T08:47:14.631842400Z",
     "start_time": "2023-07-02T08:47:14.603343700Z"
    }
   }
  },
  {
   "cell_type": "code",
   "execution_count": 39,
   "outputs": [
    {
     "data": {
      "text/plain": "<Figure size 640x480 with 1 Axes>",
      "image/png": "[encoded data removed]"
     },
     "metadata": {},
     "output_type": "display_data"
    }
   ],
   "source": [
    "resu = res.predict(df.iloc[:, :-1])\n",
    "fpr, tpr, threshold = roc_curve(df['是否违约'], resu)\n",
    "#ROC曲线\n",
    "plt.plot(fpr, tpr)\n",
    "plt.plot([0,1], [0,1], linestyle='--')\n",
    "\n",
    "plt.xlabel('False positive', fontsize=20)\n",
    "plt.ylabel('True positive', fontsize=20)\n",
    "plt.title('ROC 曲线')\n",
    "\n",
    "plt.show()\n"
   ],
   "metadata": {
    "collapsed": false,
    "ExecuteTime": {
     "end_time": "2023-07-02T08:47:14.819341800Z",
     "start_time": "2023-07-02T08:47:14.621341500Z"
    }
   }
  },
  {
   "cell_type": "code",
   "execution_count": null,
   "outputs": [],
   "source": [],
   "metadata": {
    "collapsed": false
   }
  }
 ],
 "metadata": {
  "kernelspec": {
   "display_name": "Python 3 (ipykernel)",
   "language": "python",
   "name": "python3"
  },
  "language_info": {
   "codemirror_mode": {
    "name": "ipython",
    "version": 3
   },
   "file_extension": ".py",
   "mimetype": "text/x-python",
   "name": "python",
   "nbconvert_exporter": "python",
   "pygments_lexer": "ipython3",
   "version": "3.7.6"
  }
 },
 "nbformat": 4,
 "nbformat_minor": 1
}
